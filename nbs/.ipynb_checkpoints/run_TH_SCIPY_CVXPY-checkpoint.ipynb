{
 "cells": [
  {
   "cell_type": "code",
   "execution_count": 1,
   "metadata": {
    "ExecuteTime": {
     "end_time": "2022-10-06T10:02:27.345124Z",
     "start_time": "2022-10-06T10:02:26.053842Z"
    },
    "pycharm": {
     "name": "#%%\n"
    },
    "scrolled": true
   },
   "outputs": [],
   "source": [
    "%load_ext autoreload\n",
    "%autoreload 2"
   ]
  },
  {
   "cell_type": "code",
   "execution_count": 2,
   "metadata": {
    "ExecuteTime": {
     "end_time": "2022-10-06T10:02:28.172388Z",
     "start_time": "2022-10-06T10:02:27.358841Z"
    }
   },
   "outputs": [],
   "source": [
    "# pip install ipynb"
   ]
  },
  {
   "cell_type": "code",
   "execution_count": 3,
   "metadata": {
    "ExecuteTime": {
     "end_time": "2022-10-06T10:02:35.656296Z",
     "start_time": "2022-10-06T10:02:28.186351Z"
    },
    "pycharm": {
     "name": "#%%\n"
    },
    "scrolled": true
   },
   "outputs": [],
   "source": [
    "#import libraries\n",
    "import numpy as np\n",
    "import pandas as pd\n",
    "from tqdm.auto import tqdm\n",
    "from simulator import recommendation_media, recommendation_execution, binary_search\n",
    "from cvxpy_simulator import recommendation_media_cvxpy, recommendation_execution_cvxpy, binary_search_cvxpy\n",
    "from calculator import scenario_execution, scenario_media\n",
    "from time import time\n",
    "pd.set_option('display.max_columns', None)\n",
    "pd.set_option('display.max_rows', None)\n",
    "pd.set_option('display.float_format', str)"
   ]
  },
  {
   "cell_type": "code",
   "execution_count": 4,
   "metadata": {
    "ExecuteTime": {
     "end_time": "2022-10-06T10:03:43.753488Z",
     "start_time": "2022-10-06T10:03:42.397197Z"
    },
    "pycharm": {
     "name": "#%%\n"
    },
    "scrolled": true
   },
   "outputs": [],
   "source": [
    "#Define the country and brand for which we are performing recommendation \n",
    "country = \"TH\"\n",
    "brand = \"Tawan\""
   ]
  },
  {
   "cell_type": "markdown",
   "metadata": {
    "pycharm": {
     "name": "#%% md\n"
    }
   },
   "source": [
    "# Recommendation"
   ]
  },
  {
   "cell_type": "code",
   "execution_count": 5,
   "metadata": {
    "ExecuteTime": {
     "end_time": "2022-10-06T10:03:48.651982Z",
     "start_time": "2022-10-06T10:03:44.565469Z"
    },
    "pycharm": {
     "name": "#%%\n"
    },
    "scrolled": true
   },
   "outputs": [],
   "source": [
    "media_records = pd.read_excel(\"./db/TH Snacks Input file.xlsx\", sheet_name=\"media_records_new\", engine=\"openpyxl\")\n",
    "execution_records = pd.read_excel(\"./db/TH Snacks Input file.xlsx\", sheet_name=\"distribution_records_new\", engine=\"openpyxl\")"
   ]
  },
  {
   "cell_type": "markdown",
   "metadata": {
    "pycharm": {
     "name": "#%% md\n"
    }
   },
   "source": [
    "## Media"
   ]
  },
  {
   "cell_type": "code",
   "execution_count": 6,
   "metadata": {
    "ExecuteTime": {
     "end_time": "2022-10-06T10:03:50.863020Z",
     "start_time": "2022-10-06T10:03:49.333548Z"
    },
    "pycharm": {
     "name": "#%%\n"
    },
    "scrolled": true
   },
   "outputs": [],
   "source": [
    "#below line will exclude the necessary platforms which are not required while processing\n",
    "media_records=media_records.query(\"genre_platform not in ['Others']\")"
   ]
  },
  {
   "cell_type": "code",
   "execution_count": 7,
   "metadata": {
    "ExecuteTime": {
     "end_time": "2022-10-06T10:03:52.586526Z",
     "start_time": "2022-10-06T10:03:50.872724Z"
    },
    "pycharm": {
     "name": "#%%\n"
    },
    "scrolled": true
   },
   "outputs": [],
   "source": [
    "df_constraints_media = media_records.query(\"country == @country and brand == @brand\").replace('',np.nan).convert_dtypes()\n",
    "df_constraints_execution = execution_records.query(\"country == @country and brand == @brand\").replace('',np.nan).convert_dtypes()"
   ]
  },
  {
   "cell_type": "code",
   "execution_count": 8,
   "metadata": {
    "ExecuteTime": {
     "end_time": "2022-10-06T10:03:54.561030Z",
     "start_time": "2022-10-06T10:03:53.073838Z"
    },
    "code_folding": []
   },
   "outputs": [],
   "source": [
    "# df_constraints_media"
   ]
  },
  {
   "cell_type": "code",
   "execution_count": 9,
   "metadata": {
    "ExecuteTime": {
     "end_time": "2022-10-06T10:03:56.107901Z",
     "start_time": "2022-10-06T10:03:54.567017Z"
    },
    "code_folding": []
   },
   "outputs": [],
   "source": [
    "# df_constraints_execution"
   ]
  },
  {
   "cell_type": "code",
   "execution_count": 10,
   "metadata": {
    "ExecuteTime": {
     "end_time": "2022-10-06T10:04:02.195420Z",
     "start_time": "2022-10-06T10:03:56.114410Z"
    },
    "pycharm": {
     "name": "#%%\n"
    },
    "scrolled": true
   },
   "outputs": [
    {
     "name": "stdout",
     "output_type": "stream",
     "text": [
      "2,931,349\n"
     ]
    },
    {
     "name": "stderr",
     "output_type": "stream",
     "text": [
      "C:\\Users\\aman.kurapa\\AppData\\Local\\Temp\\ipykernel_22928\\1862954673.py:1: FutureWarning: Dropping of nuisance columns in DataFrame reductions (with 'numeric_only=None') is deprecated; in a future version this will raise TypeError.  Select only valid columns before calling the reduction.\n",
      "  current_volume = df_constraints_execution.query(\"pack_name == 'Total'\").sum().sum()\n"
     ]
    }
   ],
   "source": [
    "current_volume = df_constraints_execution.query(\"pack_name == 'Total'\").sum().sum()\n",
    "print(f\"{int(current_volume):,}\")"
   ]
  },
  {
   "cell_type": "markdown",
   "metadata": {
    "pycharm": {
     "name": "#%% md\n"
    }
   },
   "source": [
    "### Key Variables to lookout in recommendation_media function:\n",
    "#### lower and upper bounds,start_values,cons_"
   ]
  },
  {
   "cell_type": "markdown",
   "metadata": {
    "pycharm": {
     "name": "#%% md\n"
    }
   },
   "source": [
    "#### User will input the desired growth_ambition_perc"
   ]
  },
  {
   "cell_type": "code",
   "execution_count": 11,
   "metadata": {
    "ExecuteTime": {
     "end_time": "2022-10-06T10:04:05.685159Z",
     "start_time": "2022-10-06T10:04:03.728212Z"
    },
    "code_folding": [],
    "pycharm": {
     "name": "#%%\n"
    },
    "scrolled": true
   },
   "outputs": [
    {
     "name": "stderr",
     "output_type": "stream",
     "text": [
      "C:\\Users\\aman.kurapa\\Anaconda3\\envs\\kali\\lib\\site-packages\\cvxpy\\problems\\problem.py:1337: UserWarning: Solution may be inaccurate. Try another solver, adjusting the solver settings, or solve with verbose=True for more information.\n",
      "  warnings.warn(\n",
      "C:\\Users\\aman.kurapa\\Anaconda3\\envs\\kali\\lib\\site-packages\\cvxpy\\reductions\\solvers\\conic_solvers\\scipy_conif.py:154: UserWarning: It is best to specify the 'method' parameter within scipy_options. The main advantage of this solver, is its ability to use the HiGHS LP solvers via scipy.optimize.linprog() which require a SciPy version >= 1.6.1 .\n",
      "\n",
      "The default method 'highs' will be used in this case.\n",
      "\n",
      "  warnings.warn(\"It is best to specify the 'method' parameter \"\n"
     ]
    },
    {
     "name": "stdout",
     "output_type": "stream",
     "text": [
      "optimality status with ECOS : optimal_inaccurate\n",
      "optimal value with ECOS : 628677.0150498722\n",
      "optimality status with SCIPY : optimal\n",
      "optimal value with SCIPY : 731791.8096095443\n",
      "Optimal solution found with solver SCIPY\n",
      "True\n"
     ]
    }
   ],
   "source": [
    "cvxpy_flag = True\n",
    "growth_ambition_perc = 0.03\n",
    "\n",
    "if not cvxpy_flag:\n",
    "    recommendation_media_df, media_convergence_flag = recommendation_media(df_constraints_media, current_volume, growth_ambition_perc)\n",
    "    print(media_convergence_flag)\n",
    "\n",
    "if cvxpy_flag:\n",
    "    recommendation_media_df, media_convergence_flag = recommendation_media_cvxpy(df_constraints_media, current_volume, growth_ambition_perc)\n",
    "    print(media_convergence_flag)\n"
   ]
  },
  {
   "cell_type": "code",
   "execution_count": 12,
   "metadata": {
    "ExecuteTime": {
     "end_time": "2022-10-06T10:04:10.081426Z",
     "start_time": "2022-10-06T10:04:08.583187Z"
    }
   },
   "outputs": [],
   "source": [
    "# recommendation_media_df"
   ]
  },
  {
   "cell_type": "code",
   "execution_count": 13,
   "metadata": {
    "ExecuteTime": {
     "end_time": "2022-10-06T10:04:12.475837Z",
     "start_time": "2022-10-06T10:04:10.995533Z"
    }
   },
   "outputs": [
    {
     "data": {
      "text/plain": [
       "731791.8096095443"
      ]
     },
     "execution_count": 13,
     "metadata": {},
     "output_type": "execute_result"
    }
   ],
   "source": [
    "recommendation_media_df[recommendation_media_df[\"genre_platform\"] != \"Total\"][\"current_effectiveness_per_metric\"].values @ recommendation_media_df[recommendation_media_df[\"genre_platform\"] != \"Total\"][\"recommendation_metric_value\"].values"
   ]
  },
  {
   "cell_type": "markdown",
   "metadata": {},
   "source": [
    "CVXPY OPTIMIZER 731791.8096095443"
   ]
  },
  {
   "cell_type": "markdown",
   "metadata": {},
   "source": [
    "SCPIY OPTIMIZER 546462.2123385201"
   ]
  },
  {
   "cell_type": "code",
   "execution_count": 14,
   "metadata": {
    "ExecuteTime": {
     "end_time": "2022-10-06T10:04:15.741569Z",
     "start_time": "2022-10-06T10:04:14.403442Z"
    }
   },
   "outputs": [],
   "source": [
    "# recommendation_media_df.to_excel(\"output_file/simulator_recommendationmedia_29_09.xlsx\",index = False)"
   ]
  },
  {
   "cell_type": "code",
   "execution_count": 15,
   "metadata": {
    "ExecuteTime": {
     "end_time": "2022-10-06T10:04:17.126938Z",
     "start_time": "2022-10-06T10:04:15.758523Z"
    }
   },
   "outputs": [],
   "source": [
    "# with pd.ExcelWriter(\"output_file/simulator_recommendationmedia_29_09.xlsx\",mode='a', engine=\"openpyxl\") as writer:  \n",
    "#     recommendation_media_df.to_excel(writer, sheet_name=\"cvxpy\")"
   ]
  },
  {
   "cell_type": "code",
   "execution_count": 16,
   "metadata": {
    "ExecuteTime": {
     "end_time": "2022-10-06T10:04:18.473516Z",
     "start_time": "2022-10-06T10:04:17.132142Z"
    }
   },
   "outputs": [],
   "source": [
    "# recommendation_media_df.loc[:,[\"lower_bounds\", \"recommendation_metric_value\", \"upper_bounds\", \"current_effectiveness_per_metric\"]]"
   ]
  },
  {
   "cell_type": "markdown",
   "metadata": {
    "pycharm": {
     "name": "#%% md\n"
    }
   },
   "source": [
    "#### Below function will excute if algo didn't converge at the user provided growth_amb_perc. It will find the appropriate growth_amb_perc and spends between the user input value and 0 with precision of 0.001"
   ]
  },
  {
   "cell_type": "code",
   "execution_count": 17,
   "metadata": {
    "ExecuteTime": {
     "end_time": "2022-10-06T10:04:19.975837Z",
     "start_time": "2022-10-06T10:04:18.479734Z"
    },
    "pycharm": {
     "name": "#%%\n"
    },
    "scrolled": true
   },
   "outputs": [],
   "source": [
    "precision = 0.001\n",
    "\n",
    "if not media_convergence_flag:\n",
    "    array = np.arange(0, growth_ambition_perc, precision).tolist()\n",
    "    result = binary_search(df_constraints_media, current_volume, array, 0, len(array)-1)\n",
    "    if result == -1:\n",
    "        raise \"Ill-defined optimisation problem\"\n",
    "    recommendation_media_df, media_convergence_flag = recommendation_media(df_constraints_media, current_volume, result)\n",
    "    print(media_convergence_flag)"
   ]
  },
  {
   "cell_type": "code",
   "execution_count": 18,
   "metadata": {
    "ExecuteTime": {
     "end_time": "2022-10-06T10:04:22.476061Z",
     "start_time": "2022-10-06T10:04:21.179289Z"
    }
   },
   "outputs": [],
   "source": [
    "# recommendation_media_df"
   ]
  },
  {
   "cell_type": "code",
   "execution_count": 19,
   "metadata": {
    "ExecuteTime": {
     "end_time": "2022-10-06T10:04:23.827712Z",
     "start_time": "2022-10-06T10:04:22.482488Z"
    },
    "pycharm": {
     "name": "#%%\n"
    },
    "scrolled": true
   },
   "outputs": [
    {
     "data": {
      "text/plain": [
       "media_type  genre_platform\n",
       "TV          Total             33919199.75441188\n",
       "Digital     Total            21543171.115249585\n",
       "Name: recommendation_spends, dtype: float64"
      ]
     },
     "execution_count": 19,
     "metadata": {},
     "output_type": "execute_result"
    }
   ],
   "source": [
    "recommendation_media_df.set_index(['media_type', 'genre_platform'])['recommendation_spends'][-2:]"
   ]
  },
  {
   "cell_type": "code",
   "execution_count": 20,
   "metadata": {
    "ExecuteTime": {
     "end_time": "2022-10-06T10:04:26.146689Z",
     "start_time": "2022-10-06T10:04:24.885546Z"
    },
    "pycharm": {
     "name": "#%%\n"
    },
    "scrolled": true
   },
   "outputs": [
    {
     "data": {
      "text/plain": [
       "media_type  genre_platform\n",
       "TV          Total            3.5350724132929265\n",
       "Digital     Total             3.721214278021889\n",
       "Name: recommendation_roi, dtype: float64"
      ]
     },
     "execution_count": 20,
     "metadata": {},
     "output_type": "execute_result"
    }
   ],
   "source": [
    "recommendation_media_df.set_index(['media_type', 'genre_platform'])['recommendation_roi'][-2:]"
   ]
  },
  {
   "cell_type": "code",
   "execution_count": 21,
   "metadata": {
    "ExecuteTime": {
     "end_time": "2022-10-06T10:04:28.370658Z",
     "start_time": "2022-10-06T10:04:26.941648Z"
    },
    "pycharm": {
     "name": "#%%\n"
    },
    "scrolled": true
   },
   "outputs": [
    {
     "name": "stdout",
     "output_type": "stream",
     "text": [
      "Growth through Digital 1.07%\n"
     ]
    }
   ],
   "source": [
    "current_volumes=recommendation_media_df.query(\"media_type =='Digital' and genre_platform == 'Total' \")['current_volume'].values[0]\n",
    "reco_volumes=recommendation_media_df.query(\"media_type =='Digital' and genre_platform == 'Total' \")['recommendation_volume'].values[0]\n",
    "volume_growth=(reco_volumes-current_volumes)/current_volume\n",
    "print(f\"Growth through Digital {round(volume_growth*100, 2)}%\")"
   ]
  },
  {
   "cell_type": "code",
   "execution_count": 22,
   "metadata": {
    "ExecuteTime": {
     "end_time": "2022-10-06T10:04:30.756289Z",
     "start_time": "2022-10-06T10:04:29.256108Z"
    },
    "pycharm": {
     "name": "#%%\n"
    },
    "scrolled": true
   },
   "outputs": [
    {
     "name": "stdout",
     "output_type": "stream",
     "text": [
      "Growth through TV 8.9%\n"
     ]
    }
   ],
   "source": [
    "current_volumes=recommendation_media_df.query(\"media_type =='TV' and genre_platform == 'Total' \")['current_volume'].values[0]\n",
    "reco_volumes=recommendation_media_df.query(\"media_type =='TV' and genre_platform == 'Total' \")['recommendation_volume'].values[0]\n",
    "volume_growth=(reco_volumes-current_volumes)/current_volume\n",
    "print(f\"Growth through TV {round(volume_growth*100, 2)}%\")"
   ]
  },
  {
   "cell_type": "code",
   "execution_count": 23,
   "metadata": {
    "ExecuteTime": {
     "end_time": "2022-10-06T10:04:32.900692Z",
     "start_time": "2022-10-06T10:04:31.702177Z"
    },
    "pycharm": {
     "name": "#%%\n"
    },
    "scrolled": true
   },
   "outputs": [],
   "source": [
    "# print(current_volume*growth_ambition_perc + recommendation_media_df.query(\"genre_platform == 'Total'\")['current_volume'].sum())\n",
    "# print(recommendation_media_df.query(\"genre_platform == 'Total'\")['recommendation_volume'].sum())"
   ]
  },
  {
   "cell_type": "code",
   "execution_count": 24,
   "metadata": {
    "ExecuteTime": {
     "end_time": "2022-10-06T10:04:34.605073Z",
     "start_time": "2022-10-06T10:04:33.379397Z"
    },
    "pycharm": {
     "name": "#%%\n"
    },
    "scrolled": true
   },
   "outputs": [],
   "source": [
    "# recommendation_media_df.replace(-1, np.nan).to_csv(f\"./test_output/temp/{country}/TH_Snacks_{brand}.csv\", index=False)"
   ]
  },
  {
   "cell_type": "markdown",
   "metadata": {
    "pycharm": {
     "name": "#%% md\n"
    }
   },
   "source": [
    "## Execution"
   ]
  },
  {
   "cell_type": "markdown",
   "metadata": {
    "pycharm": {
     "name": "#%% md\n"
    }
   },
   "source": [
    "#### Below snippet will recommended us where to invest out our remaining input spends on  different paramerts"
   ]
  },
  {
   "cell_type": "code",
   "execution_count": 25,
   "metadata": {
    "ExecuteTime": {
     "end_time": "2022-10-06T10:04:38.302500Z",
     "start_time": "2022-10-06T10:04:36.866224Z"
    },
    "pycharm": {
     "name": "#%%\n"
    },
    "scrolled": true
   },
   "outputs": [],
   "source": [
    "media_totals = recommendation_media_df.query(\"genre_platform == 'Total' \")\n",
    "volume_growth_through_media = (media_totals['recommendation_volume'] - media_totals['current_volume']).sum()"
   ]
  },
  {
   "cell_type": "code",
   "execution_count": 26,
   "metadata": {
    "ExecuteTime": {
     "end_time": "2022-10-06T10:04:39.758890Z",
     "start_time": "2022-10-06T10:04:38.307300Z"
    },
    "pycharm": {
     "name": "#%%\n"
    },
    "scrolled": true
   },
   "outputs": [],
   "source": [
    "# growth_ambition_perc = 0.1\n",
    "# volume_growth_through_media = 0"
   ]
  },
  {
   "cell_type": "code",
   "execution_count": 27,
   "metadata": {
    "ExecuteTime": {
     "end_time": "2022-10-06T10:04:41.413398Z",
     "start_time": "2022-10-06T10:04:39.765791Z"
    },
    "pycharm": {
     "name": "#%%\n"
    },
    "scrolled": true
   },
   "outputs": [
    {
     "name": "stdout",
     "output_type": "stream",
     "text": [
      "-204,109\n"
     ]
    }
   ],
   "source": [
    "remainder_volume_growth = growth_ambition_perc*current_volume - volume_growth_through_media\n",
    "print(f\"{int(remainder_volume_growth):,}\")"
   ]
  },
  {
   "cell_type": "code",
   "execution_count": 28,
   "metadata": {
    "ExecuteTime": {
     "end_time": "2022-10-06T10:04:44.103276Z",
     "start_time": "2022-10-06T10:04:42.541614Z"
    },
    "pycharm": {
     "name": "#%%\n"
    },
    "scrolled": false
   },
   "outputs": [
    {
     "name": "stdout",
     "output_type": "stream",
     "text": [
      "optimality status with ECOS : optimal\n",
      "optimal value with ECOS : 630443.4139426243\n",
      "Optimal solution found with solver ECOS\n",
      "Ran in 0.0m\n",
      "True\n"
     ]
    }
   ],
   "source": [
    "if not cvxpy_flag:\n",
    "    stime = time()\n",
    "    recommendation_execution_df, execution_convergence_flag = recommendation_execution(df_constraints_execution, remainder_volume_growth)\n",
    "    print(f\"Ran in {(time()-stime)/60:.1f}m\")\n",
    "    print(execution_convergence_flag)\n",
    "\n",
    "if cvxpy_flag:\n",
    "    stime = time()\n",
    "    recommendation_execution_df, execution_convergence_flag = recommendation_execution_cvxpy(df_constraints_execution, remainder_volume_growth)\n",
    "    print(f\"Ran in {(time()-stime)/60:.1f}m\")\n",
    "    print(execution_convergence_flag)"
   ]
  },
  {
   "cell_type": "code",
   "execution_count": 29,
   "metadata": {
    "ExecuteTime": {
     "end_time": "2022-10-06T10:04:51.525070Z",
     "start_time": "2022-10-06T10:04:50.077552Z"
    }
   },
   "outputs": [],
   "source": [
    "recommendation_execution_df.replace(-1, np.nan, inplace = True)"
   ]
  },
  {
   "cell_type": "code",
   "execution_count": 30,
   "metadata": {
    "ExecuteTime": {
     "end_time": "2022-10-06T10:04:53.426107Z",
     "start_time": "2022-10-06T10:04:52.154396Z"
    }
   },
   "outputs": [
    {
     "data": {
      "text/html": [
       "<div>\n",
       "<style scoped>\n",
       "    .dataframe tbody tr th:only-of-type {\n",
       "        vertical-align: middle;\n",
       "    }\n",
       "\n",
       "    .dataframe tbody tr th {\n",
       "        vertical-align: top;\n",
       "    }\n",
       "\n",
       "    .dataframe thead th {\n",
       "        text-align: right;\n",
       "    }\n",
       "</style>\n",
       "<table border=\"1\" class=\"dataframe\">\n",
       "  <thead>\n",
       "    <tr style=\"text-align: right;\">\n",
       "      <th></th>\n",
       "      <th>id</th>\n",
       "      <th>country</th>\n",
       "      <th>channel</th>\n",
       "      <th>current_metrics_time</th>\n",
       "      <th>current_volume_time</th>\n",
       "      <th>analysis_period</th>\n",
       "      <th>category</th>\n",
       "      <th>brand</th>\n",
       "      <th>currency</th>\n",
       "      <th>volume_unit</th>\n",
       "      <th>pack_name</th>\n",
       "      <th>current_volume</th>\n",
       "      <th>channel_pack_mix</th>\n",
       "      <th>price_elasticity</th>\n",
       "      <th>current_price_per_volume</th>\n",
       "      <th>current_price_per_pack</th>\n",
       "      <th>current_volume_per_pack</th>\n",
       "      <th>distribution_type</th>\n",
       "      <th>current_distribution</th>\n",
       "      <th>distribution_elasticity</th>\n",
       "      <th>current_trade</th>\n",
       "      <th>trade_elasticity</th>\n",
       "      <th>input_trade</th>\n",
       "      <th>trade_type</th>\n",
       "      <th>recommendation_price_per_volume</th>\n",
       "      <th>recommendation_price_per_volume_incremental_volume</th>\n",
       "      <th>recommendation_distribution</th>\n",
       "      <th>recommendation_distribution_incremental_volume</th>\n",
       "      <th>recommendation_trade</th>\n",
       "      <th>recommendation_trade_incremental_volume</th>\n",
       "      <th>scenario_price_per_volume</th>\n",
       "      <th>scenario_distribution</th>\n",
       "      <th>scenario_trade</th>\n",
       "    </tr>\n",
       "  </thead>\n",
       "  <tbody>\n",
       "    <tr>\n",
       "      <th>0</th>\n",
       "      <td>55.0</td>\n",
       "      <td>TH</td>\n",
       "      <td>Convenience</td>\n",
       "      <td>YTD 21 Oct</td>\n",
       "      <td>YTD 21 Oct</td>\n",
       "      <td>Jan 2018 to Oct 2021</td>\n",
       "      <td>Snacks</td>\n",
       "      <td>Tawan</td>\n",
       "      <td>THB</td>\n",
       "      <td>Kg</td>\n",
       "      <td>Bag-5</td>\n",
       "      <td>1087.1140363324246</td>\n",
       "      <td>0.09</td>\n",
       "      <td>NaN</td>\n",
       "      <td>153.12169996336286</td>\n",
       "      <td>5.0</td>\n",
       "      <td>0.032653764954257564</td>\n",
       "      <td>ND</td>\n",
       "      <td>1.0</td>\n",
       "      <td>NaN</td>\n",
       "      <td>0.12714441115628788</td>\n",
       "      <td>NaN</td>\n",
       "      <td>0.12714441115628788</td>\n",
       "      <td>DA%GR</td>\n",
       "      <td>NaN</td>\n",
       "      <td>NaN</td>\n",
       "      <td>NaN</td>\n",
       "      <td>NaN</td>\n",
       "      <td>NaN</td>\n",
       "      <td>NaN</td>\n",
       "      <td>NaN</td>\n",
       "      <td>NaN</td>\n",
       "      <td>NaN</td>\n",
       "    </tr>\n",
       "    <tr>\n",
       "      <th>1</th>\n",
       "      <td>56.0</td>\n",
       "      <td>TH</td>\n",
       "      <td>Convenience</td>\n",
       "      <td>YTD 21 Oct</td>\n",
       "      <td>YTD 21 Oct</td>\n",
       "      <td>Jan 2018 to Oct 2021</td>\n",
       "      <td>Snacks</td>\n",
       "      <td>Tawan</td>\n",
       "      <td>THB</td>\n",
       "      <td>Kg</td>\n",
       "      <td>Bag-20</td>\n",
       "      <td>1206817.3707774729</td>\n",
       "      <td>99.91</td>\n",
       "      <td>-1.46</td>\n",
       "      <td>219.44503098399827</td>\n",
       "      <td>20.0</td>\n",
       "      <td>0.09113899690651178</td>\n",
       "      <td>ND</td>\n",
       "      <td>97.0</td>\n",
       "      <td>0.05</td>\n",
       "      <td>0.4732876003846265</td>\n",
       "      <td>0.13</td>\n",
       "      <td>0.4732876003846265</td>\n",
       "      <td>DA%GR</td>\n",
       "      <td>197.5005278867747</td>\n",
       "      <td>176195.33612406664</td>\n",
       "      <td>106.69999997054926</td>\n",
       "      <td>6034.086835566915</td>\n",
       "      <td>NaN</td>\n",
       "      <td>NaN</td>\n",
       "      <td>NaN</td>\n",
       "      <td>NaN</td>\n",
       "      <td>NaN</td>\n",
       "    </tr>\n",
       "    <tr>\n",
       "      <th>2</th>\n",
       "      <td>57.0</td>\n",
       "      <td>TH</td>\n",
       "      <td>Convenience</td>\n",
       "      <td>YTD 21 Oct</td>\n",
       "      <td>YTD 21 Oct</td>\n",
       "      <td>Jan 2018 to Oct 2021</td>\n",
       "      <td>Snacks</td>\n",
       "      <td>Tawan</td>\n",
       "      <td>THB</td>\n",
       "      <td>Kg</td>\n",
       "      <td>Total</td>\n",
       "      <td>1207904.4848138052</td>\n",
       "      <td>100.0</td>\n",
       "      <td>-1.46</td>\n",
       "      <td>219.41904938168565</td>\n",
       "      <td>NaN</td>\n",
       "      <td>NaN</td>\n",
       "      <td>ND</td>\n",
       "      <td>NaN</td>\n",
       "      <td>0.05</td>\n",
       "      <td>0.4732069687119681</td>\n",
       "      <td>0.13</td>\n",
       "      <td>0.4732069687119681</td>\n",
       "      <td>DA%GR</td>\n",
       "      <td>NaN</td>\n",
       "      <td>176195.33612406664</td>\n",
       "      <td>NaN</td>\n",
       "      <td>6034.086835566915</td>\n",
       "      <td>0.4732069688157549</td>\n",
       "      <td>3.444031912591148e-05</td>\n",
       "      <td>NaN</td>\n",
       "      <td>NaN</td>\n",
       "      <td>NaN</td>\n",
       "    </tr>\n",
       "    <tr>\n",
       "      <th>3</th>\n",
       "      <td>58.0</td>\n",
       "      <td>TH</td>\n",
       "      <td>Super/HyperMarket</td>\n",
       "      <td>YTD 21 Oct</td>\n",
       "      <td>YTD 21 Oct</td>\n",
       "      <td>Jan 2018 to Oct 2021</td>\n",
       "      <td>Snacks</td>\n",
       "      <td>Tawan</td>\n",
       "      <td>THB</td>\n",
       "      <td>Kg</td>\n",
       "      <td>Bag-5</td>\n",
       "      <td>210715.96748785587</td>\n",
       "      <td>47.870000000000005</td>\n",
       "      <td>-2.9</td>\n",
       "      <td>245.35933078743844</td>\n",
       "      <td>5.0</td>\n",
       "      <td>0.020378275339899905</td>\n",
       "      <td>ND</td>\n",
       "      <td>22.0</td>\n",
       "      <td>2.59</td>\n",
       "      <td>0.25725320925482964</td>\n",
       "      <td>3.43</td>\n",
       "      <td>0.25725320925482964</td>\n",
       "      <td>DA%GR</td>\n",
       "      <td>220.823397714673</td>\n",
       "      <td>61107.63055658873</td>\n",
       "      <td>24.199999999627735</td>\n",
       "      <td>54575.43557011994</td>\n",
       "      <td>NaN</td>\n",
       "      <td>NaN</td>\n",
       "      <td>NaN</td>\n",
       "      <td>NaN</td>\n",
       "      <td>NaN</td>\n",
       "    </tr>\n",
       "    <tr>\n",
       "      <th>4</th>\n",
       "      <td>59.0</td>\n",
       "      <td>TH</td>\n",
       "      <td>Super/HyperMarket</td>\n",
       "      <td>YTD 21 Oct</td>\n",
       "      <td>YTD 21 Oct</td>\n",
       "      <td>Jan 2018 to Oct 2021</td>\n",
       "      <td>Snacks</td>\n",
       "      <td>Tawan</td>\n",
       "      <td>THB</td>\n",
       "      <td>Kg</td>\n",
       "      <td>Bag-20</td>\n",
       "      <td>229467.7958040929</td>\n",
       "      <td>52.129999999999995</td>\n",
       "      <td>-3.5</td>\n",
       "      <td>248.45945954734594</td>\n",
       "      <td>20.0</td>\n",
       "      <td>0.08049602955925629</td>\n",
       "      <td>ND</td>\n",
       "      <td>50.0</td>\n",
       "      <td>2.16</td>\n",
       "      <td>0.4389919824207837</td>\n",
       "      <td>NaN</td>\n",
       "      <td>0.4389919824207837</td>\n",
       "      <td>DA%GR</td>\n",
       "      <td>223.613513595433</td>\n",
       "      <td>80313.7285223116</td>\n",
       "      <td>54.99999999853004</td>\n",
       "      <td>49565.04387911241</td>\n",
       "      <td>NaN</td>\n",
       "      <td>NaN</td>\n",
       "      <td>NaN</td>\n",
       "      <td>NaN</td>\n",
       "      <td>NaN</td>\n",
       "    </tr>\n",
       "    <tr>\n",
       "      <th>5</th>\n",
       "      <td>60.0</td>\n",
       "      <td>TH</td>\n",
       "      <td>Super/HyperMarket</td>\n",
       "      <td>YTD 21 Oct</td>\n",
       "      <td>YTD 21 Oct</td>\n",
       "      <td>Jan 2018 to Oct 2021</td>\n",
       "      <td>Snacks</td>\n",
       "      <td>Tawan</td>\n",
       "      <td>THB</td>\n",
       "      <td>Kg</td>\n",
       "      <td>Total</td>\n",
       "      <td>440183.76329194877</td>\n",
       "      <td>100.0</td>\n",
       "      <td>-3.21</td>\n",
       "      <td>247.0048676549993</td>\n",
       "      <td>NaN</td>\n",
       "      <td>NaN</td>\n",
       "      <td>ND</td>\n",
       "      <td>NaN</td>\n",
       "      <td>2.37</td>\n",
       "      <td>0.3868668181350921</td>\n",
       "      <td>0.16</td>\n",
       "      <td>0.3868668181350921</td>\n",
       "      <td>DA%GR</td>\n",
       "      <td>NaN</td>\n",
       "      <td>141421.35907890034</td>\n",
       "      <td>NaN</td>\n",
       "      <td>104140.47944923234</td>\n",
       "      <td>0.3868668182471916</td>\n",
       "      <td>2.0407795145095078e-05</td>\n",
       "      <td>NaN</td>\n",
       "      <td>NaN</td>\n",
       "      <td>NaN</td>\n",
       "    </tr>\n",
       "    <tr>\n",
       "      <th>6</th>\n",
       "      <td>61.0</td>\n",
       "      <td>TH</td>\n",
       "      <td>Traditional Trade</td>\n",
       "      <td>YTD 21 Oct</td>\n",
       "      <td>YTD 21 Oct</td>\n",
       "      <td>Jan 2018 to Oct 2021</td>\n",
       "      <td>Snacks</td>\n",
       "      <td>Tawan</td>\n",
       "      <td>THB</td>\n",
       "      <td>Kg</td>\n",
       "      <td>Bag-5</td>\n",
       "      <td>969454.5445932717</td>\n",
       "      <td>75.62</td>\n",
       "      <td>-0.6</td>\n",
       "      <td>312.52805125350443</td>\n",
       "      <td>5.0</td>\n",
       "      <td>0.015998563904730246</td>\n",
       "      <td>ND</td>\n",
       "      <td>35.0</td>\n",
       "      <td>0.42</td>\n",
       "      <td>0.19960524262277343</td>\n",
       "      <td>NaN</td>\n",
       "      <td>0.19960524262277343</td>\n",
       "      <td>DA%GR</td>\n",
       "      <td>281.2752461366003</td>\n",
       "      <td>58167.27265987616</td>\n",
       "      <td>38.49999999880593</td>\n",
       "      <td>40717.0908590263</td>\n",
       "      <td>NaN</td>\n",
       "      <td>NaN</td>\n",
       "      <td>NaN</td>\n",
       "      <td>NaN</td>\n",
       "      <td>NaN</td>\n",
       "    </tr>\n",
       "    <tr>\n",
       "      <th>7</th>\n",
       "      <td>62.0</td>\n",
       "      <td>TH</td>\n",
       "      <td>Traditional Trade</td>\n",
       "      <td>YTD 21 Oct</td>\n",
       "      <td>YTD 21 Oct</td>\n",
       "      <td>Jan 2018 to Oct 2021</td>\n",
       "      <td>Snacks</td>\n",
       "      <td>Tawan</td>\n",
       "      <td>THB</td>\n",
       "      <td>Kg</td>\n",
       "      <td>Bag-20</td>\n",
       "      <td>312553.58102597145</td>\n",
       "      <td>24.38</td>\n",
       "      <td>-2.5</td>\n",
       "      <td>291.37867450393543</td>\n",
       "      <td>20.0</td>\n",
       "      <td>0.06863920303724862</td>\n",
       "      <td>ND</td>\n",
       "      <td>8.0</td>\n",
       "      <td>0.82</td>\n",
       "      <td>0.15783839517486636</td>\n",
       "      <td>NaN</td>\n",
       "      <td>0.15783839517486636</td>\n",
       "      <td>DA%GR</td>\n",
       "      <td>262.24080705708656</td>\n",
       "      <td>78138.39524698719</td>\n",
       "      <td>8.799999999687573</td>\n",
       "      <td>25629.393634120523</td>\n",
       "      <td>NaN</td>\n",
       "      <td>NaN</td>\n",
       "      <td>NaN</td>\n",
       "      <td>NaN</td>\n",
       "      <td>NaN</td>\n",
       "    </tr>\n",
       "    <tr>\n",
       "      <th>8</th>\n",
       "      <td>63.0</td>\n",
       "      <td>TH</td>\n",
       "      <td>Traditional Trade</td>\n",
       "      <td>YTD 21 Oct</td>\n",
       "      <td>YTD 21 Oct</td>\n",
       "      <td>Jan 2018 to Oct 2021</td>\n",
       "      <td>Snacks</td>\n",
       "      <td>Tawan</td>\n",
       "      <td>THB</td>\n",
       "      <td>Kg</td>\n",
       "      <td>Total</td>\n",
       "      <td>1282008.1256192431</td>\n",
       "      <td>100.0</td>\n",
       "      <td>-1.04</td>\n",
       "      <td>306.9796121762417</td>\n",
       "      <td>NaN</td>\n",
       "      <td>NaN</td>\n",
       "      <td>ND</td>\n",
       "      <td>NaN</td>\n",
       "      <td>0.52</td>\n",
       "      <td>0.19072544851344178</td>\n",
       "      <td>NaN</td>\n",
       "      <td>0.19072544851344178</td>\n",
       "      <td>DA%GR</td>\n",
       "      <td>NaN</td>\n",
       "      <td>136305.66790686335</td>\n",
       "      <td>NaN</td>\n",
       "      <td>66346.48449314683</td>\n",
       "      <td>NaN</td>\n",
       "      <td>NaN</td>\n",
       "      <td>NaN</td>\n",
       "      <td>NaN</td>\n",
       "      <td>NaN</td>\n",
       "    </tr>\n",
       "  </tbody>\n",
       "</table>\n",
       "</div>"
      ],
      "text/plain": [
       "    id country            channel current_metrics_time current_volume_time  \\\n",
       "0 55.0      TH        Convenience           YTD 21 Oct          YTD 21 Oct   \n",
       "1 56.0      TH        Convenience           YTD 21 Oct          YTD 21 Oct   \n",
       "2 57.0      TH        Convenience           YTD 21 Oct          YTD 21 Oct   \n",
       "3 58.0      TH  Super/HyperMarket           YTD 21 Oct          YTD 21 Oct   \n",
       "4 59.0      TH  Super/HyperMarket           YTD 21 Oct          YTD 21 Oct   \n",
       "5 60.0      TH  Super/HyperMarket           YTD 21 Oct          YTD 21 Oct   \n",
       "6 61.0      TH  Traditional Trade           YTD 21 Oct          YTD 21 Oct   \n",
       "7 62.0      TH  Traditional Trade           YTD 21 Oct          YTD 21 Oct   \n",
       "8 63.0      TH  Traditional Trade           YTD 21 Oct          YTD 21 Oct   \n",
       "\n",
       "        analysis_period category  brand currency volume_unit pack_name  \\\n",
       "0  Jan 2018 to Oct 2021   Snacks  Tawan      THB          Kg     Bag-5   \n",
       "1  Jan 2018 to Oct 2021   Snacks  Tawan      THB          Kg    Bag-20   \n",
       "2  Jan 2018 to Oct 2021   Snacks  Tawan      THB          Kg     Total   \n",
       "3  Jan 2018 to Oct 2021   Snacks  Tawan      THB          Kg     Bag-5   \n",
       "4  Jan 2018 to Oct 2021   Snacks  Tawan      THB          Kg    Bag-20   \n",
       "5  Jan 2018 to Oct 2021   Snacks  Tawan      THB          Kg     Total   \n",
       "6  Jan 2018 to Oct 2021   Snacks  Tawan      THB          Kg     Bag-5   \n",
       "7  Jan 2018 to Oct 2021   Snacks  Tawan      THB          Kg    Bag-20   \n",
       "8  Jan 2018 to Oct 2021   Snacks  Tawan      THB          Kg     Total   \n",
       "\n",
       "      current_volume   channel_pack_mix  price_elasticity  \\\n",
       "0 1087.1140363324246               0.09               NaN   \n",
       "1 1206817.3707774729              99.91             -1.46   \n",
       "2 1207904.4848138052              100.0             -1.46   \n",
       "3 210715.96748785587 47.870000000000005              -2.9   \n",
       "4  229467.7958040929 52.129999999999995              -3.5   \n",
       "5 440183.76329194877              100.0             -3.21   \n",
       "6  969454.5445932717              75.62              -0.6   \n",
       "7 312553.58102597145              24.38              -2.5   \n",
       "8 1282008.1256192431              100.0             -1.04   \n",
       "\n",
       "   current_price_per_volume  current_price_per_pack  current_volume_per_pack  \\\n",
       "0        153.12169996336286                     5.0     0.032653764954257564   \n",
       "1        219.44503098399827                    20.0      0.09113899690651178   \n",
       "2        219.41904938168565                     NaN                      NaN   \n",
       "3        245.35933078743844                     5.0     0.020378275339899905   \n",
       "4        248.45945954734594                    20.0      0.08049602955925629   \n",
       "5         247.0048676549993                     NaN                      NaN   \n",
       "6        312.52805125350443                     5.0     0.015998563904730246   \n",
       "7        291.37867450393543                    20.0      0.06863920303724862   \n",
       "8         306.9796121762417                     NaN                      NaN   \n",
       "\n",
       "  distribution_type  current_distribution  distribution_elasticity  \\\n",
       "0                ND                   1.0                      NaN   \n",
       "1                ND                  97.0                     0.05   \n",
       "2                ND                   NaN                     0.05   \n",
       "3                ND                  22.0                     2.59   \n",
       "4                ND                  50.0                     2.16   \n",
       "5                ND                   NaN                     2.37   \n",
       "6                ND                  35.0                     0.42   \n",
       "7                ND                   8.0                     0.82   \n",
       "8                ND                   NaN                     0.52   \n",
       "\n",
       "        current_trade  trade_elasticity         input_trade trade_type  \\\n",
       "0 0.12714441115628788               NaN 0.12714441115628788      DA%GR   \n",
       "1  0.4732876003846265              0.13  0.4732876003846265      DA%GR   \n",
       "2  0.4732069687119681              0.13  0.4732069687119681      DA%GR   \n",
       "3 0.25725320925482964              3.43 0.25725320925482964      DA%GR   \n",
       "4  0.4389919824207837               NaN  0.4389919824207837      DA%GR   \n",
       "5  0.3868668181350921              0.16  0.3868668181350921      DA%GR   \n",
       "6 0.19960524262277343               NaN 0.19960524262277343      DA%GR   \n",
       "7 0.15783839517486636               NaN 0.15783839517486636      DA%GR   \n",
       "8 0.19072544851344178               NaN 0.19072544851344178      DA%GR   \n",
       "\n",
       "   recommendation_price_per_volume  \\\n",
       "0                              NaN   \n",
       "1                197.5005278867747   \n",
       "2                              NaN   \n",
       "3                 220.823397714673   \n",
       "4                 223.613513595433   \n",
       "5                              NaN   \n",
       "6                281.2752461366003   \n",
       "7               262.24080705708656   \n",
       "8                              NaN   \n",
       "\n",
       "   recommendation_price_per_volume_incremental_volume  \\\n",
       "0                                                NaN    \n",
       "1                                 176195.33612406664    \n",
       "2                                 176195.33612406664    \n",
       "3                                  61107.63055658873    \n",
       "4                                   80313.7285223116    \n",
       "5                                 141421.35907890034    \n",
       "6                                  58167.27265987616    \n",
       "7                                  78138.39524698719    \n",
       "8                                 136305.66790686335    \n",
       "\n",
       "   recommendation_distribution  \\\n",
       "0                          NaN   \n",
       "1           106.69999997054926   \n",
       "2                          NaN   \n",
       "3           24.199999999627735   \n",
       "4            54.99999999853004   \n",
       "5                          NaN   \n",
       "6            38.49999999880593   \n",
       "7            8.799999999687573   \n",
       "8                          NaN   \n",
       "\n",
       "   recommendation_distribution_incremental_volume  recommendation_trade  \\\n",
       "0                                             NaN                   NaN   \n",
       "1                               6034.086835566915                   NaN   \n",
       "2                               6034.086835566915    0.4732069688157549   \n",
       "3                               54575.43557011994                   NaN   \n",
       "4                               49565.04387911241                   NaN   \n",
       "5                              104140.47944923234    0.3868668182471916   \n",
       "6                                40717.0908590263                   NaN   \n",
       "7                              25629.393634120523                   NaN   \n",
       "8                               66346.48449314683                   NaN   \n",
       "\n",
       "   recommendation_trade_incremental_volume  scenario_price_per_volume  \\\n",
       "0                                      NaN                        NaN   \n",
       "1                                      NaN                        NaN   \n",
       "2                    3.444031912591148e-05                        NaN   \n",
       "3                                      NaN                        NaN   \n",
       "4                                      NaN                        NaN   \n",
       "5                   2.0407795145095078e-05                        NaN   \n",
       "6                                      NaN                        NaN   \n",
       "7                                      NaN                        NaN   \n",
       "8                                      NaN                        NaN   \n",
       "\n",
       "   scenario_distribution  scenario_trade  \n",
       "0                    NaN             NaN  \n",
       "1                    NaN             NaN  \n",
       "2                    NaN             NaN  \n",
       "3                    NaN             NaN  \n",
       "4                    NaN             NaN  \n",
       "5                    NaN             NaN  \n",
       "6                    NaN             NaN  \n",
       "7                    NaN             NaN  \n",
       "8                    NaN             NaN  "
      ]
     },
     "execution_count": 30,
     "metadata": {},
     "output_type": "execute_result"
    }
   ],
   "source": [
    "recommendation_execution_df"
   ]
  },
  {
   "cell_type": "code",
   "execution_count": 31,
   "metadata": {
    "ExecuteTime": {
     "end_time": "2022-10-06T10:04:56.312253Z",
     "start_time": "2022-10-06T10:04:55.187815Z"
    }
   },
   "outputs": [],
   "source": [
    "# recommendation_execution_df.to_excel(\"recommendation_execution.xlsx\", sheet_name = \"CVXPY\")\n",
    "# with pd.ExcelWriter(\"recommendation_execution.xlsx\",mode='a', engine=\"openpyxl\") as writer:  \n",
    "#     recommendation_execution_df.to_excel(writer, sheet_name=\"SCIPY\")"
   ]
  },
  {
   "cell_type": "code",
   "execution_count": 32,
   "metadata": {
    "ExecuteTime": {
     "end_time": "2022-10-06T10:04:57.635045Z",
     "start_time": "2022-10-06T10:04:56.318282Z"
    },
    "pycharm": {
     "name": "#%%\n"
    },
    "scrolled": true
   },
   "outputs": [],
   "source": [
    "# recommendation_execution_df.replace(-1, np.nan).to_csv(f\"./test_output/temp/{country}/TH_Snacks_{brand}_PDT.csv\", index=False)"
   ]
  },
  {
   "cell_type": "code",
   "execution_count": 33,
   "metadata": {
    "ExecuteTime": {
     "end_time": "2022-10-06T10:04:58.997198Z",
     "start_time": "2022-10-06T10:04:57.640115Z"
    },
    "pycharm": {
     "name": "#%%\n"
    },
    "scrolled": true
   },
   "outputs": [],
   "source": [
    "# reco_volumes = ['recommendation_price_per_volume_volume', 'recommendation_distribution_volume', 'recommendation_trade_volume']\n",
    "# pdt_volume_growth_achieved = recommendation_execution_df.query(\"pack_name == 'Total'\")[reco_volumes].sum().sum()\n",
    "# print(f\"{int(pdt_volume_growth_achieved):,}\")"
   ]
  },
  {
   "cell_type": "markdown",
   "metadata": {
    "pycharm": {
     "name": "#%% md\n"
    }
   },
   "source": [
    "# Scenario"
   ]
  },
  {
   "cell_type": "markdown",
   "metadata": {
    "pycharm": {
     "name": "#%% md\n"
    }
   },
   "source": [
    "## Media"
   ]
  },
  {
   "cell_type": "markdown",
   "metadata": {
    "heading_collapsed": true,
    "pycharm": {
     "name": "#%% md\n"
    }
   },
   "source": [
    "### The below snippet is used whenever user needs to try out  with different inputs as a scenarios.\n",
    "#### User needs to provides an csv file as input with  necessary values in:\n",
    "#### For TV Media Type: input is scenario_metric_value\n",
    "#### For Digital Media Type: input is scenario_spends"
   ]
  },
  {
   "cell_type": "markdown",
   "metadata": {
    "pycharm": {
     "name": "#%% md\n"
    }
   },
   "source": [
    "## Media"
   ]
  },
  {
   "cell_type": "markdown",
   "metadata": {},
   "source": [
    "### The below snippet is used whenever user needs to try out  with different inputs as a scenarios.\n",
    "#### User needs to provides an csv file as input with  necessary values in:\n",
    "#### For TV Media Type: input is scenario_metric_value\n",
    "#### For Digital Media Type: input is scenario_spends"
   ]
  },
  {
   "cell_type": "code",
   "execution_count": 34,
   "metadata": {
    "ExecuteTime": {
     "end_time": "2022-10-06T10:05:00.428995Z",
     "start_time": "2022-10-06T10:04:59.006460Z"
    },
    "pycharm": {
     "name": "#%%\n"
    },
    "scrolled": true
   },
   "outputs": [],
   "source": [
    "recommendation_media_df = pd.read_csv(f\"./test_output/temp/{country}/TH_Snacks_{brand}.csv\").replace(np.nan, -1)"
   ]
  },
  {
   "cell_type": "code",
   "execution_count": 35,
   "metadata": {
    "ExecuteTime": {
     "end_time": "2022-10-06T10:05:02.243858Z",
     "start_time": "2022-10-06T10:05:01.029802Z"
    },
    "pycharm": {
     "name": "#%%\n"
    },
    "scrolled": true
   },
   "outputs": [],
   "source": [
    "recommendation_media_df['scenario_spends_digital_input'] = recommendation_media_df['scenario_spends']\n",
    "recommendation_media_df['scenario_metric_value_input'] = recommendation_media_df['scenario_metric_value']"
   ]
  },
  {
   "cell_type": "code",
   "execution_count": 36,
   "metadata": {
    "ExecuteTime": {
     "end_time": "2022-10-06T10:05:04.268028Z",
     "start_time": "2022-10-06T10:05:02.622204Z"
    },
    "pycharm": {
     "name": "#%%\n"
    },
    "scrolled": true
   },
   "outputs": [],
   "source": [
    "scenario_media_df = scenario_media(recommendation_media_df)"
   ]
  },
  {
   "cell_type": "code",
   "execution_count": 37,
   "metadata": {
    "ExecuteTime": {
     "end_time": "2022-10-06T10:05:05.883580Z",
     "start_time": "2022-10-06T10:05:04.621603Z"
    },
    "pycharm": {
     "name": "#%%\n"
    },
    "scrolled": true
   },
   "outputs": [],
   "source": [
    "scenario_media_df.replace(-1, np.nan).to_csv(f\"./test_output/temp/{country}/scenario/TH_Snacks_{brand}_S1.csv\", index=False)"
   ]
  },
  {
   "cell_type": "code",
   "execution_count": null,
   "metadata": {
    "pycharm": {
     "name": "#%%\n"
    },
    "scrolled": true
   },
   "outputs": [],
   "source": [
    "scenario_media_df.set_index(['media_type', 'genre_platform'])['scenario_roi'][-2:]"
   ]
  },
  {
   "cell_type": "code",
   "execution_count": null,
   "metadata": {
    "pycharm": {
     "name": "#%%\n"
    },
    "scrolled": true
   },
   "outputs": [],
   "source": [
    "current_volume = df_constraints_execution.query(\"pack_name == 'Total'\").sum().sum()\n",
    "print(f\"{int(current_volume):,}\")"
   ]
  },
  {
   "cell_type": "code",
   "execution_count": null,
   "metadata": {
    "pycharm": {
     "name": "#%%\n"
    },
    "scrolled": true
   },
   "outputs": [],
   "source": [
    "current_volumes=scenario_media_df.query(\"media_type =='Digital' and genre_platform == 'Total' \")['current_volume'].values[0]\n",
    "reco_volumes=scenario_media_df.query(\"media_type =='Digital' and genre_platform == 'Total' \")['scenario_volume'].values[0]\n",
    "volume_growth=(reco_volumes-current_volumes)/current_volume\n",
    "print(f\"Growth through Digital {round(volume_growth*100, 2)}%\")"
   ]
  },
  {
   "cell_type": "code",
   "execution_count": null,
   "metadata": {
    "pycharm": {
     "name": "#%%\n"
    },
    "scrolled": true
   },
   "outputs": [],
   "source": [
    "current_volumes=scenario_media_df.query(\"media_type =='TV' and genre_platform == 'Total' \")['current_volume'].values[0]\n",
    "reco_volumes=scenario_media_df.query(\"media_type =='TV' and genre_platform == 'Total' \")['scenario_volume'].values[0]\n",
    "volume_growth=(reco_volumes-current_volumes)/current_volume\n",
    "print(f\"Growth through TV {round(volume_growth*100, 2)}%\")"
   ]
  },
  {
   "cell_type": "code",
   "execution_count": null,
   "metadata": {
    "pycharm": {
     "name": "#%%\n"
    },
    "scrolled": true
   },
   "outputs": [],
   "source": [
    "## Execution"
   ]
  },
  {
   "cell_type": "code",
   "execution_count": null,
   "metadata": {
    "pycharm": {
     "name": "#%%\n"
    },
    "scrolled": true
   },
   "outputs": [],
   "source": [
    "recommendation_execution_df = pd.read_csv(f\"./test_output/temp/{country}/TH_Snacks_{brand}_PDT.csv\").replace(np.nan, -1)"
   ]
  },
  {
   "cell_type": "code",
   "execution_count": null,
   "metadata": {
    "pycharm": {
     "name": "#%%\n"
    },
    "scrolled": true
   },
   "outputs": [],
   "source": [
    "scenario_execution_df = scenario_execution(recommendation_execution_df)"
   ]
  },
  {
   "cell_type": "code",
   "execution_count": null,
   "metadata": {
    "pycharm": {
     "name": "#%%\n"
    },
    "scrolled": true
   },
   "outputs": [],
   "source": [
    "scenario_execution_df.replace(-1, np.nan).to_csv(f\"./test_output/temp/{country}/scenario/TH_Snacks_{brand}_PDT_S1.csv\", index=False)"
   ]
  },
  {
   "cell_type": "code",
   "execution_count": null,
   "metadata": {
    "pycharm": {
     "name": "#%%"
    },
    "scrolled": true
   },
   "outputs": [],
   "source": []
  }
 ],
 "metadata": {
  "kernelspec": {
   "display_name": "Python 3 (ipykernel)",
   "language": "python",
   "name": "python3"
  },
  "language_info": {
   "codemirror_mode": {
    "name": "ipython",
    "version": 3
   },
   "file_extension": ".py",
   "mimetype": "text/x-python",
   "name": "python",
   "nbconvert_exporter": "python",
   "pygments_lexer": "ipython3",
   "version": "3.8.8"
  }
 },
 "nbformat": 4,
 "nbformat_minor": 1
}
