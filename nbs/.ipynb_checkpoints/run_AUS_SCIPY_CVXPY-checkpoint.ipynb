{
 "cells": [
  {
   "cell_type": "code",
   "execution_count": null,
   "metadata": {
    "ExecuteTime": {
     "start_time": "2022-10-06T07:37:31.048Z"
    }
   },
   "outputs": [],
   "source": [
    "%load_ext autoreload\n",
    "%autoreload 2"
   ]
  },
  {
   "cell_type": "code",
   "execution_count": null,
   "metadata": {
    "ExecuteTime": {
     "start_time": "2022-10-06T07:37:31.386Z"
    }
   },
   "outputs": [],
   "source": [
    "import numpy as np\n",
    "import pandas as pd\n",
    "from tqdm.auto import tqdm\n",
    "from simulator import recommendation_media, recommendation_execution\n",
    "from calculator import scenario_execution, scenario_media"
   ]
  },
  {
   "cell_type": "code",
   "execution_count": null,
   "metadata": {
    "ExecuteTime": {
     "start_time": "2022-10-06T07:37:31.821Z"
    }
   },
   "outputs": [],
   "source": [
    "country = \"AUS\"\n",
    "brand = \"Smiths\""
   ]
  },
  {
   "cell_type": "code",
   "execution_count": null,
   "metadata": {
    "ExecuteTime": {
     "start_time": "2022-10-06T07:37:32.257Z"
    },
    "pycharm": {
     "is_executing": true,
     "name": "#%%\n"
    }
   },
   "outputs": [],
   "source": [
    "media_records = pd.read_excel(\"./db/Aus.xlsx\", sheet_name=\"media_records_new\", engine=\"openpyxl\").drop(columns=['id', ])\n",
    "execution_records = pd.read_excel(\"./db/Aus.xlsx\", sheet_name=\"distribution_records_new\", engine=\"openpyxl\")\n",
    "scenario_media_details = pd.read_csv(\"./db/scenario_media_details.csv\", encoding='latin').drop(columns=['id', ])\n",
    "scenario_execution_details = pd.read_csv(\"./db/scenario_execution_details.csv\", encoding='latin').drop(columns=['id', ])"
   ]
  },
  {
   "cell_type": "code",
   "execution_count": 122,
   "metadata": {},
   "outputs": [],
   "source": [
    "media_records=media_records.query(\"genre_platform not in ['Twitter', 'Others','Verizon']\")"
   ]
  },
  {
   "cell_type": "code",
   "execution_count": 123,
   "metadata": {},
   "outputs": [],
   "source": [
    "media_records_headers = media_records.columns.tolist()\n",
    "execution_records_headers = execution_records.columns.tolist()\n",
    "scenario_media_headers = list(set(scenario_media_details.columns.tolist()) - set(media_records_headers))\n",
    "scenario_execution_headers = list(set(scenario_execution_details.columns.tolist()) - set(execution_records_headers))"
   ]
  },
  {
   "cell_type": "code",
   "execution_count": 124,
   "metadata": {},
   "outputs": [],
   "source": [
    "df_constraints_media = media_records.query(\"country == @country and brand == @brand\").replace('',np.nan).convert_dtypes()\n",
    "df_constraints_execution=execution_records.loc[(execution_records['country']=='Australia')&(execution_records['current_volume_time']=='FY 2021')&(execution_records['brand'].str.startswith('Smith'))].replace('',np.nan).convert_dtypes()\n",
    "df_constraints_media = df_constraints_media.reindex(columns = df_constraints_media.columns.tolist() + scenario_media_headers)\n",
    "df_constraints_execution = df_constraints_execution.reindex(columns = df_constraints_execution.columns.tolist() + scenario_execution_headers)"
   ]
  },
  {
   "cell_type": "code",
   "execution_count": 125,
   "metadata": {
    "pycharm": {
     "is_executing": true,
     "name": "#%%\n"
    }
   },
   "outputs": [],
   "source": [
    "#df_constraints_media = media_records.query(\"country == @country and brand == @brand\").replace('',np.nan).convert_dtypes()\n",
    "#df_constraints_execution = execution_records.query(\"country == @country and brand == @brand\").replace('',np.nan).convert_dtypes()\n",
    "#df_constraints_media = df_constraints_media.reindex(columns = df_constraints_media.columns.tolist() + scenario_media_headers)\n",
    "#df_constraints_execution = df_constraints_execution.reindex(columns = df_constraints_execution.columns.tolist() + scenario_execution_headers)"
   ]
  },
  {
   "cell_type": "code",
   "execution_count": 126,
   "metadata": {},
   "outputs": [
    {
     "name": "stdout",
     "output_type": "stream",
     "text": [
      "15971016.958844904\n"
     ]
    }
   ],
   "source": [
    "#current_volume = df_constraints_execution.query(\"pack_name == 'Total'\").sum().sum()\n",
    "#print(f\"{int(current_volume):,}\")\n",
    "current_volume = df_constraints_execution['current_volume'].sum()\n",
    "print(current_volume)\n",
    "#print(f\"{int(current_volume):,}\")\n"
   ]
  },
  {
   "cell_type": "code",
   "execution_count": 128,
   "metadata": {},
   "outputs": [
    {
     "name": "stdout",
     "output_type": "stream",
     "text": [
      "True\n"
     ]
    },
    {
     "name": "stderr",
     "output_type": "stream",
     "text": [
      "C:\\Users\\guru.patakota\\simulator\\simulator_back\\nbs\\simulator.py:12: SettingWithCopyWarning: \n",
      "A value is trying to be set on a copy of a slice from a DataFrame.\n",
      "Try using .loc[row_indexer,col_indexer] = value instead\n",
      "\n",
      "See the caveats in the documentation: https://pandas.pydata.org/pandas-docs/stable/user_guide/indexing.html#returning-a-view-versus-a-copy\n",
      "  data['current_effectiveness_per_metric'] = data['current_effectiveness_per_unit'] / data['one_unit_metric_quantity']\n",
      "C:\\Users\\guru.patakota\\simulator\\simulator_back\\nbs\\simulator.py:13: SettingWithCopyWarning: \n",
      "A value is trying to be set on a copy of a slice from a DataFrame.\n",
      "Try using .loc[row_indexer,col_indexer] = value instead\n",
      "\n",
      "See the caveats in the documentation: https://pandas.pydata.org/pandas-docs/stable/user_guide/indexing.html#returning-a-view-versus-a-copy\n",
      "  data['input_cost_per_metric'] = data['input_cost_per_unit'] / data['one_unit_metric_quantity']\n",
      "c:\\users\\guru.patakota\\roi\\airflow\\venv\\lib\\site-packages\\scipy\\optimize\\_minimize.py:547: RuntimeWarning: Method SLSQP does not use Hessian information (hess).\n",
      "  warn('Method %s does not use Hessian information (hess).' % method,\n",
      "c:\\users\\guru.patakota\\roi\\airflow\\venv\\lib\\site-packages\\scipy\\optimize\\_constraints.py:368: OptimizeWarning: Constraint option `keep_feasible` is ignored by this method.\n",
      "  warn(\"Constraint option `keep_feasible` is ignored by this \"\n"
     ]
    }
   ],
   "source": [
    "growth_ambition_perc = 0.079\n",
    "recommendation_media_df, media_convergence_flag = recommendation_media(df_constraints_media, current_volume, growth_ambition_perc)\n",
    "print(media_convergence_flag)"
   ]
  },
  {
   "cell_type": "code",
   "execution_count": 129,
   "metadata": {},
   "outputs": [
    {
     "data": {
      "text/plain": [
       "media_type  genre_platform\n",
       "Digital     Facebook          1.044057e+06\n",
       "            Total             6.690521e+06\n",
       "Name: recommendation_spends, dtype: float64"
      ]
     },
     "execution_count": 129,
     "metadata": {},
     "output_type": "execute_result"
    }
   ],
   "source": [
    "recommendation_media_df.set_index(['media_type', 'genre_platform'])['recommendation_spends'][-2:]"
   ]
  },
  {
   "cell_type": "code",
   "execution_count": 130,
   "metadata": {},
   "outputs": [
    {
     "data": {
      "text/plain": [
       "media_type  genre_platform\n",
       "Digital     Facebook          4.893091\n",
       "            Total             8.610068\n",
       "Name: recommendation_roi, dtype: float64"
      ]
     },
     "execution_count": 130,
     "metadata": {},
     "output_type": "execute_result"
    }
   ],
   "source": [
    "recommendation_media_df.set_index(['media_type', 'genre_platform'])['recommendation_roi'][-2:]"
   ]
  },
  {
   "cell_type": "code",
   "execution_count": 131,
   "metadata": {},
   "outputs": [
    {
     "name": "stdout",
     "output_type": "stream",
     "text": [
      "16.31%\n"
     ]
    }
   ],
   "source": [
    "current_volumes=recommendation_media_df.query(\"media_type =='Digital' and genre_platform == 'Total' \")['current_volume'].values[0]\n",
    "reco_volumes=recommendation_media_df.query(\"media_type =='Digital' and genre_platform == 'Total' \")['recommendation_volume'].values[0]\n",
    "volume_growth=(reco_volumes-current_volumes)/current_volume\n",
    "print(f\"{round(volume_growth*100, 2)}%\")"
   ]
  },
  {
   "cell_type": "code",
   "execution_count": 83,
   "metadata": {},
   "outputs": [
    {
     "ename": "IndexError",
     "evalue": "index 0 is out of bounds for axis 0 with size 0",
     "output_type": "error",
     "traceback": [
      "\u001b[1;31m---------------------------------------------------------------------------\u001b[0m",
      "\u001b[1;31mIndexError\u001b[0m                                Traceback (most recent call last)",
      "Input \u001b[1;32mIn [83]\u001b[0m, in \u001b[0;36m<cell line: 1>\u001b[1;34m()\u001b[0m\n\u001b[1;32m----> 1\u001b[0m current_volumes\u001b[38;5;241m=\u001b[39m\u001b[43mrecommendation_media_df\u001b[49m\u001b[38;5;241;43m.\u001b[39;49m\u001b[43mquery\u001b[49m\u001b[43m(\u001b[49m\u001b[38;5;124;43m\"\u001b[39;49m\u001b[38;5;124;43mmedia_type ==\u001b[39;49m\u001b[38;5;124;43m'\u001b[39;49m\u001b[38;5;124;43mTV\u001b[39;49m\u001b[38;5;124;43m'\u001b[39;49m\u001b[38;5;124;43m and genre_platform == \u001b[39;49m\u001b[38;5;124;43m'\u001b[39;49m\u001b[38;5;124;43mTotal\u001b[39;49m\u001b[38;5;124;43m'\u001b[39;49m\u001b[38;5;124;43m \u001b[39;49m\u001b[38;5;124;43m\"\u001b[39;49m\u001b[43m)\u001b[49m\u001b[43m[\u001b[49m\u001b[38;5;124;43m'\u001b[39;49m\u001b[38;5;124;43mcurrent_volume\u001b[39;49m\u001b[38;5;124;43m'\u001b[39;49m\u001b[43m]\u001b[49m\u001b[38;5;241;43m.\u001b[39;49m\u001b[43mvalues\u001b[49m\u001b[43m[\u001b[49m\u001b[38;5;241;43m0\u001b[39;49m\u001b[43m]\u001b[49m\n\u001b[0;32m      2\u001b[0m reco_volumes\u001b[38;5;241m=\u001b[39mrecommendation_media_df\u001b[38;5;241m.\u001b[39mquery(\u001b[38;5;124m\"\u001b[39m\u001b[38;5;124mmedia_type ==\u001b[39m\u001b[38;5;124m'\u001b[39m\u001b[38;5;124mTV\u001b[39m\u001b[38;5;124m'\u001b[39m\u001b[38;5;124m and genre_platform == \u001b[39m\u001b[38;5;124m'\u001b[39m\u001b[38;5;124mTotal\u001b[39m\u001b[38;5;124m'\u001b[39m\u001b[38;5;124m \u001b[39m\u001b[38;5;124m\"\u001b[39m)[\u001b[38;5;124m'\u001b[39m\u001b[38;5;124mrecommendation_volume\u001b[39m\u001b[38;5;124m'\u001b[39m]\u001b[38;5;241m.\u001b[39mvalues[\u001b[38;5;241m0\u001b[39m]\n\u001b[0;32m      3\u001b[0m volume_growth\u001b[38;5;241m=\u001b[39m(reco_volumes\u001b[38;5;241m-\u001b[39mcurrent_volumes)\u001b[38;5;241m/\u001b[39mcurrent_volume\n",
      "\u001b[1;31mIndexError\u001b[0m: index 0 is out of bounds for axis 0 with size 0"
     ]
    }
   ],
   "source": [
    "current_volumes=recommendation_media_df.query(\"media_type =='TV' and genre_platform == 'Total' \")['current_volume'].values[0]\n",
    "reco_volumes=recommendation_media_df.query(\"media_type =='TV' and genre_platform == 'Total' \")['recommendation_volume'].values[0]\n",
    "volume_growth=(reco_volumes-current_volumes)/current_volume\n",
    "print(f\"{round(volume_growth*100, 2)}%\")"
   ]
  },
  {
   "cell_type": "code",
   "execution_count": 84,
   "metadata": {
    "scrolled": true
   },
   "outputs": [],
   "source": [
    "# print(current_volume*growth_ambition_perc + recommendation_media_df.query(\"genre_platform == 'Total'\")['current_volume'].sum())\n",
    "# print(recommendation_media_df.query(\"genre_platform == 'Total'\")['recommendation_volume'].sum())"
   ]
  },
  {
   "cell_type": "code",
   "execution_count": 97,
   "metadata": {
    "pycharm": {
     "is_executing": true,
     "name": "#%%\n"
    }
   },
   "outputs": [],
   "source": [
    "recommendation_media_df.to_csv(f\"./test_output/temp/{country}/Aus_snacks_{brand}_3.csv\", index=False)"
   ]
  },
  {
   "cell_type": "markdown",
   "metadata": {},
   "source": [
    "# Scenario"
   ]
  },
  {
   "cell_type": "markdown",
   "metadata": {},
   "source": [
    "Media"
   ]
  },
  {
   "cell_type": "code",
   "execution_count": 20,
   "metadata": {},
   "outputs": [],
   "source": [
    "recommendation_media_df = pd.read_csv(f\"./test_output/temp/{country}/Aus_snacks_{brand}_3.csv\").replace(np.nan, -1)"
   ]
  },
  {
   "cell_type": "code",
   "execution_count": 21,
   "metadata": {},
   "outputs": [],
   "source": [
    "recommendation_media_df['scenario_spends_digital_input'] = recommendation_media_df['scenario_spends']\n",
    "recommendation_media_df['scenario_metric_value_input'] = recommendation_media_df['scenario_metric_value']"
   ]
  },
  {
   "cell_type": "code",
   "execution_count": 22,
   "metadata": {},
   "outputs": [],
   "source": [
    "scenario_media_df = scenario_media(recommendation_media_df)"
   ]
  },
  {
   "cell_type": "code",
   "execution_count": 17,
   "metadata": {},
   "outputs": [],
   "source": [
    "scenario_media_df.replace(-1, np.nan).to_csv(f\"./test_output/temp/{country}/scenario/Aus_snacks_{brand}_S1.csv\", index=False)"
   ]
  },
  {
   "cell_type": "code",
   "execution_count": 24,
   "metadata": {},
   "outputs": [
    {
     "data": {
      "text/plain": [
       "media_type  genre_platform\n",
       "Digital     Facebook          4.893092\n",
       "            Total             4.122062\n",
       "Name: scenario_roi, dtype: float64"
      ]
     },
     "execution_count": 24,
     "metadata": {},
     "output_type": "execute_result"
    }
   ],
   "source": [
    "scenario_media_df.set_index(['media_type', 'genre_platform'])['scenario_roi'][-2:]"
   ]
  },
  {
   "cell_type": "code",
   "execution_count": null,
   "metadata": {},
   "outputs": [],
   "source": []
  }
 ],
 "metadata": {
  "kernelspec": {
   "display_name": "Python 3 (ipykernel)",
   "language": "python",
   "name": "python3"
  },
  "language_info": {
   "codemirror_mode": {
    "name": "ipython",
    "version": 3
   },
   "file_extension": ".py",
   "mimetype": "text/x-python",
   "name": "python",
   "nbconvert_exporter": "python",
   "pygments_lexer": "ipython3",
   "version": "3.8.8"
  }
 },
 "nbformat": 4,
 "nbformat_minor": 1
}
