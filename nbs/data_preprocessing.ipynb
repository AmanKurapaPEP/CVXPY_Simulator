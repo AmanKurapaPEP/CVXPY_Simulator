{
 "cells": [
  {
   "cell_type": "code",
   "execution_count": 1,
   "id": "965c0bc1",
   "metadata": {},
   "outputs": [],
   "source": [
    "import pandas as pd"
   ]
  },
  {
   "cell_type": "code",
   "execution_count": 2,
   "id": "d757d7b7",
   "metadata": {},
   "outputs": [],
   "source": [
    "media_records_db = pd.read_csv(\"./db/media_records.csv\")\n",
    "distribution_records_db = pd.read_csv(\"./db/distribution_records.csv\")\n",
    "\n",
    "media_headers = media_records_db.columns\n",
    "distribution_headers = distribution_records_db.columns"
   ]
  },
  {
   "cell_type": "code",
   "execution_count": null,
   "id": "1bf0f588",
   "metadata": {},
   "outputs": [],
   "source": []
  },
  {
   "cell_type": "code",
   "execution_count": 12,
   "id": "02ab84bb",
   "metadata": {},
   "outputs": [],
   "source": [
    "market = \"KSA Snacks\"\n",
    "filepath = f\"./test_data/{market}.xlsx\"\n",
    "media_new = pd.read_excel(filepath, sheet_name='media_records', engine='openpyxl')\n",
    "distribution_new = pd.read_excel(filepath, sheet_name='execution_records', engine='openpyxl')"
   ]
  },
  {
   "cell_type": "code",
   "execution_count": 13,
   "id": "3a9f10f1",
   "metadata": {},
   "outputs": [
    {
     "data": {
      "text/plain": [
       "['current_distribution',\n",
       " 'channel_pack_mix',\n",
       " 'trade_elasticity',\n",
       " 'input_trade',\n",
       " 'current_distribution_TDP_absolute',\n",
       " 'distribution_type',\n",
       " 'current_distribution_TDP_share']"
      ]
     },
     "execution_count": 13,
     "metadata": {},
     "output_type": "execute_result"
    }
   ],
   "source": [
    "distribution_new_columns = list(set(distribution_new.columns)^set(distribution_headers))\n",
    "distribution_new_columns"
   ]
  },
  {
   "cell_type": "code",
   "execution_count": 5,
   "id": "2feaa933",
   "metadata": {},
   "outputs": [
    {
     "data": {
      "text/plain": [
       "[]"
      ]
     },
     "execution_count": 5,
     "metadata": {},
     "output_type": "execute_result"
    }
   ],
   "source": [
    "media_new_columns = list(set(media_new.columns)^set(media_headers))\n",
    "media_new_columns"
   ]
  },
  {
   "cell_type": "code",
   "execution_count": 6,
   "id": "7c3f27d2",
   "metadata": {},
   "outputs": [],
   "source": [
    "media = media_new[media_headers]\n",
    "distribution = distribution_new[distribution_headers]"
   ]
  },
  {
   "cell_type": "code",
   "execution_count": 7,
   "id": "deb5b5f8",
   "metadata": {},
   "outputs": [],
   "source": [
    "# if new columns exist\n",
    "distribution[distribution_new_columns] = distribution_new[distribution_new_columns]"
   ]
  },
  {
   "cell_type": "code",
   "execution_count": 8,
   "id": "4f25d877",
   "metadata": {},
   "outputs": [],
   "source": [
    "distribution = (distribution\n",
    "                .replace(0, -1,)\n",
    "                .fillna(-1)\n",
    "                .drop(columns=['id'])\n",
    "               )\n",
    "media = (media\n",
    "         .replace(0, -1,)\n",
    "         .fillna(-1)\n",
    "         .drop(columns=['id'])\n",
    "               )"
   ]
  },
  {
   "cell_type": "code",
   "execution_count": 11,
   "id": "a71befe6",
   "metadata": {},
   "outputs": [],
   "source": [
    "# distribution.to_csv(f\"./db/execution_records_{market}.csv\", index=False)\n",
    "media.to_csv(f\"./db/media_records_{market}.csv\", index=False)"
   ]
  },
  {
   "cell_type": "code",
   "execution_count": null,
   "id": "5e39f3e1",
   "metadata": {},
   "outputs": [],
   "source": []
  }
 ],
 "metadata": {
  "kernelspec": {
   "display_name": "Python 3",
   "language": "python",
   "name": "python3"
  },
  "language_info": {
   "codemirror_mode": {
    "name": "ipython",
    "version": 3
   },
   "file_extension": ".py",
   "mimetype": "text/x-python",
   "name": "python",
   "nbconvert_exporter": "python",
   "pygments_lexer": "ipython3",
   "version": "3.6.13"
  }
 },
 "nbformat": 4,
 "nbformat_minor": 5
}
