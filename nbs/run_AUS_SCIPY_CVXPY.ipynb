{
 "cells": [
  {
   "cell_type": "code",
   "execution_count": 1,
   "metadata": {
    "ExecuteTime": {
     "end_time": "2022-10-10T03:28:26.944042Z",
     "start_time": "2022-10-10T03:28:26.412533Z"
    }
   },
   "outputs": [],
   "source": [
    "%load_ext autoreload\n",
    "%autoreload 2"
   ]
  },
  {
   "cell_type": "code",
   "execution_count": 2,
   "metadata": {
    "ExecuteTime": {
     "end_time": "2022-10-10T03:29:04.981989Z",
     "start_time": "2022-10-10T03:28:39.610109Z"
    }
   },
   "outputs": [],
   "source": [
    "import numpy as np\n",
    "import pandas as pd\n",
    "pd.set_option('display.max_columns', None)\n",
    "pd.set_option('display.max_rows', None)\n",
    "pd.set_option('display.float_format', str)\n",
    "from tqdm.auto import tqdm\n",
    "from simulator import recommendation_media, recommendation_execution\n",
    "from cvxpy_simulator import recommendation_media_cvxpy, recommendation_execution_cvxpy, binary_search_cvxpy\n",
    "from calculator import scenario_execution, scenario_media"
   ]
  },
  {
   "cell_type": "code",
   "execution_count": 3,
   "metadata": {
    "ExecuteTime": {
     "end_time": "2022-10-10T03:29:08.483919Z",
     "start_time": "2022-10-10T03:29:07.267567Z"
    }
   },
   "outputs": [],
   "source": [
    "country = \"AUS\"\n",
    "brand = \"Smiths\""
   ]
  },
  {
   "cell_type": "code",
   "execution_count": 4,
   "metadata": {
    "ExecuteTime": {
     "end_time": "2022-10-10T03:29:13.479704Z",
     "start_time": "2022-10-10T03:29:09.221901Z"
    },
    "pycharm": {
     "is_executing": true,
     "name": "#%%\n"
    }
   },
   "outputs": [],
   "source": [
    "media_records = pd.read_excel(\"./db/Aus.xlsx\", sheet_name=\"media_records_new\", engine=\"openpyxl\").drop(columns=['id', ])\n",
    "execution_records = pd.read_excel(\"./db/Aus.xlsx\", sheet_name=\"distribution_records_new\", engine=\"openpyxl\")\n",
    "scenario_media_details = pd.read_csv(\"./db/scenario_media_details.csv\", encoding='latin').drop(columns=['id', ])\n",
    "scenario_execution_details = pd.read_csv(\"./db/scenario_execution_details.csv\", encoding='latin').drop(columns=['id', ])"
   ]
  },
  {
   "cell_type": "code",
   "execution_count": 5,
   "metadata": {
    "ExecuteTime": {
     "end_time": "2022-10-10T03:29:14.922355Z",
     "start_time": "2022-10-10T03:29:13.486835Z"
    }
   },
   "outputs": [],
   "source": [
    "media_records=media_records.query(\"genre_platform not in ['Twitter', 'Others','Verizon']\")"
   ]
  },
  {
   "cell_type": "code",
   "execution_count": 6,
   "metadata": {
    "ExecuteTime": {
     "end_time": "2022-10-10T03:29:16.373151Z",
     "start_time": "2022-10-10T03:29:14.927978Z"
    }
   },
   "outputs": [],
   "source": [
    "media_records_headers = media_records.columns.tolist()\n",
    "execution_records_headers = execution_records.columns.tolist()\n",
    "scenario_media_headers = list(set(scenario_media_details.columns.tolist()) - set(media_records_headers))\n",
    "scenario_execution_headers = list(set(scenario_execution_details.columns.tolist()) - set(execution_records_headers))"
   ]
  },
  {
   "cell_type": "code",
   "execution_count": 7,
   "metadata": {
    "ExecuteTime": {
     "end_time": "2022-10-10T03:29:27.227376Z",
     "start_time": "2022-10-10T03:29:25.913255Z"
    }
   },
   "outputs": [],
   "source": [
    "df_constraints_media = media_records.query(\"country == @country and brand == @brand\").replace('',np.nan).convert_dtypes()\n",
    "df_constraints_execution=execution_records.loc[(execution_records['country']=='Australia')&(execution_records['current_volume_time']=='FY 2021')&(execution_records['brand'].str.startswith('Smith'))].replace('',np.nan).convert_dtypes()\n",
    "df_constraints_media = df_constraints_media.reindex(columns = df_constraints_media.columns.tolist() + scenario_media_headers)\n",
    "df_constraints_execution = df_constraints_execution.reindex(columns = df_constraints_execution.columns.tolist() + scenario_execution_headers)"
   ]
  },
  {
   "cell_type": "code",
   "execution_count": 8,
   "metadata": {
    "ExecuteTime": {
     "end_time": "2022-10-10T03:29:28.544177Z",
     "start_time": "2022-10-10T03:29:27.234709Z"
    },
    "pycharm": {
     "is_executing": true,
     "name": "#%%\n"
    }
   },
   "outputs": [],
   "source": [
    "#df_constraints_media = media_records.query(\"country == @country and brand == @brand\").replace('',np.nan).convert_dtypes()\n",
    "#df_constraints_execution = execution_records.query(\"country == @country and brand == @brand\").replace('',np.nan).convert_dtypes()\n",
    "#df_constraints_media = df_constraints_media.reindex(columns = df_constraints_media.columns.tolist() + scenario_media_headers)\n",
    "#df_constraints_execution = df_constraints_execution.reindex(columns = df_constraints_execution.columns.tolist() + scenario_execution_headers)"
   ]
  },
  {
   "cell_type": "code",
   "execution_count": 9,
   "metadata": {
    "ExecuteTime": {
     "end_time": "2022-10-10T03:29:29.952621Z",
     "start_time": "2022-10-10T03:29:28.552872Z"
    }
   },
   "outputs": [
    {
     "name": "stdout",
     "output_type": "stream",
     "text": [
      "15971016.958844904\n"
     ]
    }
   ],
   "source": [
    "#current_volume = df_constraints_execution.query(\"pack_name == 'Total'\").sum().sum()\n",
    "#print(f\"{int(current_volume):,}\")\n",
    "current_volume = df_constraints_execution['current_volume'].sum()\n",
    "print(current_volume)\n",
    "#print(f\"{int(current_volume):,}\")\n"
   ]
  },
  {
   "cell_type": "code",
   "execution_count": 10,
   "metadata": {
    "ExecuteTime": {
     "end_time": "2022-10-10T03:30:41.407914Z",
     "start_time": "2022-10-10T03:30:40.179468Z"
    }
   },
   "outputs": [],
   "source": [
    "df_constraints_media = df_constraints_media[df_constraints_media[\"media_type\"] == \"Digital\"].copy()"
   ]
  },
  {
   "cell_type": "code",
   "execution_count": 11,
   "metadata": {
    "ExecuteTime": {
     "end_time": "2022-10-10T03:30:42.780879Z",
     "start_time": "2022-10-10T03:30:41.415350Z"
    }
   },
   "outputs": [],
   "source": [
    "# new_row = df_constraints_media.loc[10, :].copy()\n",
    "# new_row[\"media_type\"] = \"TV\"\n",
    "# new_row[\"input_spends\"] = 0\n",
    "# df_constraints_media = df_constraints_media.append(new_row,ignore_index = True)"
   ]
  },
  {
   "cell_type": "code",
   "execution_count": 12,
   "metadata": {
    "ExecuteTime": {
     "end_time": "2022-10-10T03:30:44.809251Z",
     "start_time": "2022-10-10T03:30:43.608667Z"
    }
   },
   "outputs": [],
   "source": [
    "# df_total = df_constraints_media[df_constraints_media['genre_platform'] == 'Total'].reset_index(drop=True)\n",
    "# total_tv = df_total.query(\"media_type == 'TV'\")"
   ]
  },
  {
   "cell_type": "code",
   "execution_count": 13,
   "metadata": {
    "ExecuteTime": {
     "end_time": "2022-10-10T03:30:46.311675Z",
     "start_time": "2022-10-10T03:30:44.815656Z"
    }
   },
   "outputs": [],
   "source": [
    "# df_total"
   ]
  },
  {
   "cell_type": "code",
   "execution_count": 14,
   "metadata": {
    "ExecuteTime": {
     "end_time": "2022-10-10T03:30:47.605573Z",
     "start_time": "2022-10-10T03:30:46.316840Z"
    }
   },
   "outputs": [],
   "source": [
    "# total_tv"
   ]
  },
  {
   "cell_type": "code",
   "execution_count": 40,
   "metadata": {
    "ExecuteTime": {
     "end_time": "2022-10-10T03:53:18.731720Z",
     "start_time": "2022-10-10T03:53:17.106953Z"
    },
    "scrolled": true
   },
   "outputs": [
    {
     "name": "stdout",
     "output_type": "stream",
     "text": [
      "optimality status with SCIPY : optimal\n",
      "optimal value with SCIPY : 5062425.440062818\n",
      "Optimal solution found with solver SCIPY\n",
      "True\n"
     ]
    },
    {
     "name": "stderr",
     "output_type": "stream",
     "text": [
      "C:\\Users\\aman.kurapa\\Anaconda3\\envs\\kali\\lib\\site-packages\\cvxpy\\reductions\\solvers\\conic_solvers\\scipy_conif.py:154: UserWarning: It is best to specify the 'method' parameter within scipy_options. The main advantage of this solver, is its ability to use the HiGHS LP solvers via scipy.optimize.linprog() which require a SciPy version >= 1.6.1 .\n",
      "\n",
      "The default method 'highs' will be used in this case.\n",
      "\n",
      "  warnings.warn(\"It is best to specify the 'method' parameter \"\n"
     ]
    }
   ],
   "source": [
    "growth_ambition_perc = 0.079\n",
    "cvxpy_flag = True\n",
    "\n",
    "if not cvxpy_flag:\n",
    "    recommendation_media_df, media_convergence_flag = recommendation_media(df_constraints_media, current_volume, growth_ambition_perc)\n",
    "    print(media_convergence_flag)\n",
    "\n",
    "if cvxpy_flag:\n",
    "    recommendation_media_df, media_convergence_flag = recommendation_media_cvxpy(df_constraints_media, current_volume, growth_ambition_perc)\n",
    "    print(media_convergence_flag)\n"
   ]
  },
  {
   "cell_type": "code",
   "execution_count": 41,
   "metadata": {
    "ExecuteTime": {
     "end_time": "2022-10-10T03:53:20.291077Z",
     "start_time": "2022-10-10T03:53:18.743329Z"
    }
   },
   "outputs": [
    {
     "data": {
      "text/plain": [
       "5062425.440062818"
      ]
     },
     "execution_count": 41,
     "metadata": {},
     "output_type": "execute_result"
    }
   ],
   "source": [
    "np.dot(recommendation_media_df.loc[0:2, \"matrix_row_3_vg\"], recommendation_media_df.loc[0:2, \"recommendation_metric_value\"])"
   ]
  },
  {
   "cell_type": "code",
   "execution_count": 42,
   "metadata": {
    "ExecuteTime": {
     "end_time": "2022-10-10T03:53:21.769495Z",
     "start_time": "2022-10-10T03:53:20.297929Z"
    }
   },
   "outputs": [
    {
     "data": {
      "text/plain": [
       "6690521.0"
      ]
     },
     "execution_count": 42,
     "metadata": {},
     "output_type": "execute_result"
    }
   ],
   "source": [
    "np.dot(recommendation_media_df.loc[0:2, \"matrix_row_2_digital\"], recommendation_media_df.loc[0:2, \"recommendation_metric_value\"])"
   ]
  },
  {
   "cell_type": "code",
   "execution_count": 43,
   "metadata": {
    "ExecuteTime": {
     "end_time": "2022-10-10T03:53:23.185832Z",
     "start_time": "2022-10-10T03:53:21.778012Z"
    }
   },
   "outputs": [
    {
     "data": {
      "text/plain": [
       "6690521.0"
      ]
     },
     "execution_count": 43,
     "metadata": {},
     "output_type": "execute_result"
    }
   ],
   "source": [
    "recommendation_media_df.loc[0:2, \"recommendation_spends\"].sum()"
   ]
  },
  {
   "cell_type": "code",
   "execution_count": 44,
   "metadata": {
    "ExecuteTime": {
     "end_time": "2022-10-10T03:53:24.935554Z",
     "start_time": "2022-10-10T03:53:23.191291Z"
    }
   },
   "outputs": [
    {
     "data": {
      "text/plain": [
       "media_type  genre_platform\n",
       "Digital     Facebook         2341682.3500000006\n",
       "            Total                     6690521.0\n",
       "Name: recommendation_spends, dtype: float64"
      ]
     },
     "execution_count": 44,
     "metadata": {},
     "output_type": "execute_result"
    }
   ],
   "source": [
    "recommendation_media_df.set_index(['media_type', 'genre_platform'])['recommendation_spends'][-2:]"
   ]
  },
  {
   "cell_type": "code",
   "execution_count": 45,
   "metadata": {
    "ExecuteTime": {
     "end_time": "2022-10-10T03:53:26.448314Z",
     "start_time": "2022-10-10T03:53:24.940134Z"
    }
   },
   "outputs": [
    {
     "data": {
      "text/plain": [
       "media_type  genre_platform\n",
       "Digital     Facebook          4.893091496743493\n",
       "            Total            11.287286208334162\n",
       "Name: recommendation_roi, dtype: float64"
      ]
     },
     "execution_count": 45,
     "metadata": {},
     "output_type": "execute_result"
    }
   ],
   "source": [
    "recommendation_media_df.set_index(['media_type', 'genre_platform'])['recommendation_roi'][-2:]"
   ]
  },
  {
   "cell_type": "code",
   "execution_count": 46,
   "metadata": {
    "ExecuteTime": {
     "end_time": "2022-10-10T03:53:28.000198Z",
     "start_time": "2022-10-10T03:53:26.456489Z"
    }
   },
   "outputs": [
    {
     "name": "stdout",
     "output_type": "stream",
     "text": [
      "23.83%\n"
     ]
    }
   ],
   "source": [
    "current_volumes=recommendation_media_df.query(\"media_type =='Digital' and genre_platform == 'Total' \")['current_volume'].values[0]\n",
    "reco_volumes=recommendation_media_df.query(\"media_type =='Digital' and genre_platform == 'Total' \")['recommendation_volume'].values[0]\n",
    "volume_growth=(reco_volumes-current_volumes)/current_volume\n",
    "print(f\"{round(volume_growth*100, 2)}%\")"
   ]
  },
  {
   "cell_type": "code",
   "execution_count": 26,
   "metadata": {
    "ExecuteTime": {
     "end_time": "2022-10-10T03:31:24.707518Z",
     "start_time": "2022-10-10T03:31:23.377475Z"
    }
   },
   "outputs": [
    {
     "data": {
      "text/html": [
       "<div>\n",
       "<style scoped>\n",
       "    .dataframe tbody tr th:only-of-type {\n",
       "        vertical-align: middle;\n",
       "    }\n",
       "\n",
       "    .dataframe tbody tr th {\n",
       "        vertical-align: top;\n",
       "    }\n",
       "\n",
       "    .dataframe thead th {\n",
       "        text-align: right;\n",
       "    }\n",
       "</style>\n",
       "<table border=\"1\" class=\"dataframe\">\n",
       "  <thead>\n",
       "    <tr style=\"text-align: right;\">\n",
       "      <th></th>\n",
       "      <th>lower_bounds</th>\n",
       "      <th>recommendation_metric_value</th>\n",
       "      <th>upper_bounds</th>\n",
       "    </tr>\n",
       "  </thead>\n",
       "  <tbody>\n",
       "    <tr>\n",
       "      <th>0</th>\n",
       "      <td>7048574.449987228</td>\n",
       "      <td>84582893.39984672</td>\n",
       "      <td>84582893.39984672</td>\n",
       "    </tr>\n",
       "    <tr>\n",
       "      <th>1</th>\n",
       "      <td>14660750.933105959</td>\n",
       "      <td>14660750.933105959</td>\n",
       "      <td>175929011.19727147</td>\n",
       "    </tr>\n",
       "    <tr>\n",
       "      <th>2</th>\n",
       "      <td>43055177.62502398</td>\n",
       "      <td>301386243.3751679</td>\n",
       "      <td>516662131.50028765</td>\n",
       "    </tr>\n",
       "    <tr>\n",
       "      <th>3</th>\n",
       "      <td>-1.0</td>\n",
       "      <td>400629887.7081206</td>\n",
       "      <td>-1.0</td>\n",
       "    </tr>\n",
       "  </tbody>\n",
       "</table>\n",
       "</div>"
      ],
      "text/plain": [
       "        lower_bounds  recommendation_metric_value       upper_bounds\n",
       "0  7048574.449987228            84582893.39984672  84582893.39984672\n",
       "1 14660750.933105959           14660750.933105959 175929011.19727147\n",
       "2  43055177.62502398            301386243.3751679 516662131.50028765\n",
       "3               -1.0            400629887.7081206               -1.0"
      ]
     },
     "execution_count": 26,
     "metadata": {},
     "output_type": "execute_result"
    }
   ],
   "source": [
    "recommendation_media_df[[\"lower_bounds\", \"recommendation_metric_value\", \"upper_bounds\"]]"
   ]
  },
  {
   "cell_type": "code",
   "execution_count": 27,
   "metadata": {
    "ExecuteTime": {
     "end_time": "2022-10-10T03:31:26.784065Z",
     "start_time": "2022-10-10T03:31:25.573388Z"
    }
   },
   "outputs": [
    {
     "data": {
      "text/html": [
       "<div>\n",
       "<style scoped>\n",
       "    .dataframe tbody tr th:only-of-type {\n",
       "        vertical-align: middle;\n",
       "    }\n",
       "\n",
       "    .dataframe tbody tr th {\n",
       "        vertical-align: top;\n",
       "    }\n",
       "\n",
       "    .dataframe thead th {\n",
       "        text-align: right;\n",
       "    }\n",
       "</style>\n",
       "<table border=\"1\" class=\"dataframe\">\n",
       "  <thead>\n",
       "    <tr style=\"text-align: right;\">\n",
       "      <th></th>\n",
       "      <th>country</th>\n",
       "      <th>year</th>\n",
       "      <th>timeline</th>\n",
       "      <th>analysis_period</th>\n",
       "      <th>category</th>\n",
       "      <th>brand</th>\n",
       "      <th>media_type</th>\n",
       "      <th>genre_platform</th>\n",
       "      <th>metric_type</th>\n",
       "      <th>buy_type</th>\n",
       "      <th>currency</th>\n",
       "      <th>spends_divisor</th>\n",
       "      <th>one_unit_metric_quantity</th>\n",
       "      <th>volume_unit</th>\n",
       "      <th>current_spends</th>\n",
       "      <th>current_metric_value</th>\n",
       "      <th>current_effectiveness_per_unit</th>\n",
       "      <th>current_impressions</th>\n",
       "      <th>current_volume</th>\n",
       "      <th>current_price_per_volume</th>\n",
       "      <th>current_revenue</th>\n",
       "      <th>current_roi</th>\n",
       "      <th>current_cost_per_unit</th>\n",
       "      <th>ideal_operating_point</th>\n",
       "      <th>input_cost_per_unit</th>\n",
       "      <th>input_weekly_grp</th>\n",
       "      <th>input_woa</th>\n",
       "      <th>input_spends</th>\n",
       "      <th>scenario_name</th>\n",
       "      <th>scenario_roi_output</th>\n",
       "      <th>scenario_spends</th>\n",
       "      <th>scenerio_metric_value_output</th>\n",
       "      <th>scenario_volume_output</th>\n",
       "      <th>recommendation_volume</th>\n",
       "      <th>recommendation_cost_per_unit</th>\n",
       "      <th>scenario_spends_output</th>\n",
       "      <th>recommendation_revenue</th>\n",
       "      <th>recommendation_roi</th>\n",
       "      <th>recommendation_metric_value</th>\n",
       "      <th>scenario_metric_value</th>\n",
       "      <th>recommendation_spends</th>\n",
       "      <th>scenario_revenue_output</th>\n",
       "      <th>simulation_id</th>\n",
       "      <th>scenario_cost_per_unit</th>\n",
       "      <th>current_effectiveness_per_metric</th>\n",
       "      <th>input_cost_per_metric</th>\n",
       "      <th>lower_bounds</th>\n",
       "      <th>upper_bounds</th>\n",
       "      <th>matrix_row_1_tv</th>\n",
       "      <th>matrix_row_2_digital</th>\n",
       "      <th>matrix_row_3_vg</th>\n",
       "    </tr>\n",
       "  </thead>\n",
       "  <tbody>\n",
       "    <tr>\n",
       "      <th>0</th>\n",
       "      <td>AUS</td>\n",
       "      <td>2021.0</td>\n",
       "      <td>FY 21</td>\n",
       "      <td>Jan 2018 to May 2021</td>\n",
       "      <td>Snacks</td>\n",
       "      <td>Smiths</td>\n",
       "      <td>Digital</td>\n",
       "      <td>Display - Scrollx/High Impact</td>\n",
       "      <td>Impressions</td>\n",
       "      <td>fixed_spend</td>\n",
       "      <td>AUD</td>\n",
       "      <td>1000.0</td>\n",
       "      <td>1000.0</td>\n",
       "      <td>KG</td>\n",
       "      <td>233361.49366945613</td>\n",
       "      <td>4917003.808490802</td>\n",
       "      <td>49.891691856859914</td>\n",
       "      <td>-1</td>\n",
       "      <td>245317.63887222973</td>\n",
       "      <td>14.917321016175404</td>\n",
       "      <td>3659481.9699872406</td>\n",
       "      <td>15.681601589209476</td>\n",
       "      <td>47.460100247732534</td>\n",
       "      <td>-1</td>\n",
       "      <td>47.460100247732534</td>\n",
       "      <td>-1</td>\n",
       "      <td>-1</td>\n",
       "      <td>-1.0</td>\n",
       "      <td>-1.0</td>\n",
       "      <td>-1.0</td>\n",
       "      <td>-1.0</td>\n",
       "      <td>-1.0</td>\n",
       "      <td>-1.0</td>\n",
       "      <td>4219983.653866783</td>\n",
       "      <td>-1.0</td>\n",
       "      <td>-1.0</td>\n",
       "      <td>62950850.84774363</td>\n",
       "      <td>15.68160158920948</td>\n",
       "      <td>84582893.39984672</td>\n",
       "      <td>-1.0</td>\n",
       "      <td>4014312.5999999996</td>\n",
       "      <td>-1.0</td>\n",
       "      <td>-1.0</td>\n",
       "      <td>-1.0</td>\n",
       "      <td>0.04989169185685991</td>\n",
       "      <td>0.047460100247732534</td>\n",
       "      <td>7048574.449987228</td>\n",
       "      <td>84582893.39984672</td>\n",
       "      <td>0.0</td>\n",
       "      <td>0.047460100247732534</td>\n",
       "      <td>0.04989169185685991</td>\n",
       "    </tr>\n",
       "    <tr>\n",
       "      <th>1</th>\n",
       "      <td>AUS</td>\n",
       "      <td>2021.0</td>\n",
       "      <td>FY 21</td>\n",
       "      <td>Jan 2018 to May 2021</td>\n",
       "      <td>Snacks</td>\n",
       "      <td>Smiths</td>\n",
       "      <td>Digital</td>\n",
       "      <td>Dv361</td>\n",
       "      <td>Impressions</td>\n",
       "      <td>fixed_spend</td>\n",
       "      <td>AUD</td>\n",
       "      <td>1000.0</td>\n",
       "      <td>1000.0</td>\n",
       "      <td>KG</td>\n",
       "      <td>2239802.562496159</td>\n",
       "      <td>98160330.13897924</td>\n",
       "      <td>5.070475485526193</td>\n",
       "      <td>-1</td>\n",
       "      <td>497719.5476208521</td>\n",
       "      <td>14.917321016175404</td>\n",
       "      <td>7424642.267885852</td>\n",
       "      <td>3.314864618965085</td>\n",
       "      <td>22.81779777355026</td>\n",
       "      <td>-1</td>\n",
       "      <td>22.81779777355026</td>\n",
       "      <td>-1</td>\n",
       "      <td>-1</td>\n",
       "      <td>-1.0</td>\n",
       "      <td>-1.0</td>\n",
       "      <td>-1.0</td>\n",
       "      <td>-1.0</td>\n",
       "      <td>-1.0</td>\n",
       "      <td>-1.0</td>\n",
       "      <td>74336.97820571902</td>\n",
       "      <td>-1.0</td>\n",
       "      <td>-1.0</td>\n",
       "      <td>1108908.5672671453</td>\n",
       "      <td>3.3148646189650854</td>\n",
       "      <td>14660750.933105959</td>\n",
       "      <td>-1.0</td>\n",
       "      <td>334526.05000000005</td>\n",
       "      <td>-1.0</td>\n",
       "      <td>-1.0</td>\n",
       "      <td>-1.0</td>\n",
       "      <td>0.005070475485526193</td>\n",
       "      <td>0.02281779777355026</td>\n",
       "      <td>14660750.933105959</td>\n",
       "      <td>175929011.19727147</td>\n",
       "      <td>0.0</td>\n",
       "      <td>0.02281779777355026</td>\n",
       "      <td>0.005070475485526193</td>\n",
       "    </tr>\n",
       "    <tr>\n",
       "      <th>2</th>\n",
       "      <td>AUS</td>\n",
       "      <td>2021.0</td>\n",
       "      <td>FY 21</td>\n",
       "      <td>Jan 2018 to May 2021</td>\n",
       "      <td>Snacks</td>\n",
       "      <td>Smiths</td>\n",
       "      <td>Digital</td>\n",
       "      <td>Facebook</td>\n",
       "      <td>Impressions</td>\n",
       "      <td>fixed_spend</td>\n",
       "      <td>AUD</td>\n",
       "      <td>1000.0</td>\n",
       "      <td>1000.0</td>\n",
       "      <td>KG</td>\n",
       "      <td>1567254.4640884865</td>\n",
       "      <td>201713496.85604918</td>\n",
       "      <td>2.548572885704587</td>\n",
       "      <td>-1</td>\n",
       "      <td>514081.5487679844</td>\n",
       "      <td>14.917321016175404</td>\n",
       "      <td>7668719.491464654</td>\n",
       "      <td>4.8930914967434935</td>\n",
       "      <td>7.769705490787967</td>\n",
       "      <td>-1</td>\n",
       "      <td>7.769705490787967</td>\n",
       "      <td>-1</td>\n",
       "      <td>-1</td>\n",
       "      <td>-1.0</td>\n",
       "      <td>-1.0</td>\n",
       "      <td>-1.0</td>\n",
       "      <td>-1.0</td>\n",
       "      <td>-1.0</td>\n",
       "      <td>-1.0</td>\n",
       "      <td>768104.8079903167</td>\n",
       "      <td>-1.0</td>\n",
       "      <td>-1.0</td>\n",
       "      <td>11458065.994859323</td>\n",
       "      <td>4.893091496743493</td>\n",
       "      <td>301386243.3751679</td>\n",
       "      <td>-1.0</td>\n",
       "      <td>2341682.3500000006</td>\n",
       "      <td>-1.0</td>\n",
       "      <td>-1.0</td>\n",
       "      <td>-1.0</td>\n",
       "      <td>0.002548572885704587</td>\n",
       "      <td>0.007769705490787967</td>\n",
       "      <td>43055177.62502398</td>\n",
       "      <td>516662131.50028765</td>\n",
       "      <td>0.0</td>\n",
       "      <td>0.007769705490787967</td>\n",
       "      <td>0.002548572885704587</td>\n",
       "    </tr>\n",
       "    <tr>\n",
       "      <th>3</th>\n",
       "      <td>AUS</td>\n",
       "      <td>2021.0</td>\n",
       "      <td>FY 21</td>\n",
       "      <td>Jan 2018 to May 2021</td>\n",
       "      <td>Snacks</td>\n",
       "      <td>Smiths</td>\n",
       "      <td>Digital</td>\n",
       "      <td>Total</td>\n",
       "      <td>Impressions</td>\n",
       "      <td>fixed_spend</td>\n",
       "      <td>AUD</td>\n",
       "      <td>1000.0</td>\n",
       "      <td>1000.0</td>\n",
       "      <td>KG</td>\n",
       "      <td>4136458.728804723</td>\n",
       "      <td>307324828.9641534</td>\n",
       "      <td>-1.0</td>\n",
       "      <td>-1</td>\n",
       "      <td>1257118.7352610664</td>\n",
       "      <td>14.917321016175404</td>\n",
       "      <td>18752843.729337744</td>\n",
       "      <td>4.5335503044548915</td>\n",
       "      <td>13.45956570689966</td>\n",
       "      <td>-1</td>\n",
       "      <td>13.45956570689966</td>\n",
       "      <td>-1</td>\n",
       "      <td>-1</td>\n",
       "      <td>6690521.0</td>\n",
       "      <td>-1.0</td>\n",
       "      <td>-1.0</td>\n",
       "      <td>-1.0</td>\n",
       "      <td>-1.0</td>\n",
       "      <td>-1.0</td>\n",
       "      <td>5062425.440062818</td>\n",
       "      <td>-1.0</td>\n",
       "      <td>-1.0</td>\n",
       "      <td>75517825.40987009</td>\n",
       "      <td>11.287286208334162</td>\n",
       "      <td>400629887.7081206</td>\n",
       "      <td>-1.0</td>\n",
       "      <td>6690521.0</td>\n",
       "      <td>-1.0</td>\n",
       "      <td>-1.0</td>\n",
       "      <td>-1.0</td>\n",
       "      <td>-1.0</td>\n",
       "      <td>0.01345956570689966</td>\n",
       "      <td>-1.0</td>\n",
       "      <td>-1.0</td>\n",
       "      <td>-1.0</td>\n",
       "      <td>-1.0</td>\n",
       "      <td>-1.0</td>\n",
       "    </tr>\n",
       "  </tbody>\n",
       "</table>\n",
       "</div>"
      ],
      "text/plain": [
       "  country   year timeline       analysis_period category   brand media_type  \\\n",
       "0     AUS 2021.0    FY 21  Jan 2018 to May 2021   Snacks  Smiths    Digital   \n",
       "1     AUS 2021.0    FY 21  Jan 2018 to May 2021   Snacks  Smiths    Digital   \n",
       "2     AUS 2021.0    FY 21  Jan 2018 to May 2021   Snacks  Smiths    Digital   \n",
       "3     AUS 2021.0    FY 21  Jan 2018 to May 2021   Snacks  Smiths    Digital   \n",
       "\n",
       "                   genre_platform  metric_type     buy_type currency  \\\n",
       "0  Display - Scrollx/High Impact   Impressions  fixed_spend      AUD   \n",
       "1                           Dv361  Impressions  fixed_spend      AUD   \n",
       "2                        Facebook  Impressions  fixed_spend      AUD   \n",
       "3                           Total  Impressions  fixed_spend      AUD   \n",
       "\n",
       "   spends_divisor  one_unit_metric_quantity volume_unit     current_spends  \\\n",
       "0          1000.0                    1000.0          KG 233361.49366945613   \n",
       "1          1000.0                    1000.0          KG  2239802.562496159   \n",
       "2          1000.0                    1000.0          KG 1567254.4640884865   \n",
       "3          1000.0                    1000.0          KG  4136458.728804723   \n",
       "\n",
       "   current_metric_value  current_effectiveness_per_unit  current_impressions  \\\n",
       "0     4917003.808490802              49.891691856859914                   -1   \n",
       "1     98160330.13897924               5.070475485526193                   -1   \n",
       "2    201713496.85604918               2.548572885704587                   -1   \n",
       "3     307324828.9641534                            -1.0                   -1   \n",
       "\n",
       "      current_volume  current_price_per_volume    current_revenue  \\\n",
       "0 245317.63887222973        14.917321016175404 3659481.9699872406   \n",
       "1  497719.5476208521        14.917321016175404  7424642.267885852   \n",
       "2  514081.5487679844        14.917321016175404  7668719.491464654   \n",
       "3 1257118.7352610664        14.917321016175404 18752843.729337744   \n",
       "\n",
       "         current_roi  current_cost_per_unit  ideal_operating_point  \\\n",
       "0 15.681601589209476     47.460100247732534                     -1   \n",
       "1  3.314864618965085      22.81779777355026                     -1   \n",
       "2 4.8930914967434935      7.769705490787967                     -1   \n",
       "3 4.5335503044548915      13.45956570689966                     -1   \n",
       "\n",
       "   input_cost_per_unit  input_weekly_grp  input_woa  input_spends  \\\n",
       "0   47.460100247732534                -1         -1          -1.0   \n",
       "1    22.81779777355026                -1         -1          -1.0   \n",
       "2    7.769705490787967                -1         -1          -1.0   \n",
       "3    13.45956570689966                -1         -1     6690521.0   \n",
       "\n",
       "   scenario_name  scenario_roi_output  scenario_spends  \\\n",
       "0           -1.0                 -1.0             -1.0   \n",
       "1           -1.0                 -1.0             -1.0   \n",
       "2           -1.0                 -1.0             -1.0   \n",
       "3           -1.0                 -1.0             -1.0   \n",
       "\n",
       "   scenerio_metric_value_output  scenario_volume_output  \\\n",
       "0                          -1.0                    -1.0   \n",
       "1                          -1.0                    -1.0   \n",
       "2                          -1.0                    -1.0   \n",
       "3                          -1.0                    -1.0   \n",
       "\n",
       "   recommendation_volume  recommendation_cost_per_unit  \\\n",
       "0      4219983.653866783                          -1.0   \n",
       "1      74336.97820571902                          -1.0   \n",
       "2      768104.8079903167                          -1.0   \n",
       "3      5062425.440062818                          -1.0   \n",
       "\n",
       "   scenario_spends_output  recommendation_revenue  recommendation_roi  \\\n",
       "0                    -1.0       62950850.84774363   15.68160158920948   \n",
       "1                    -1.0      1108908.5672671453  3.3148646189650854   \n",
       "2                    -1.0      11458065.994859323   4.893091496743493   \n",
       "3                    -1.0       75517825.40987009  11.287286208334162   \n",
       "\n",
       "   recommendation_metric_value  scenario_metric_value  recommendation_spends  \\\n",
       "0            84582893.39984672                   -1.0     4014312.5999999996   \n",
       "1           14660750.933105959                   -1.0     334526.05000000005   \n",
       "2            301386243.3751679                   -1.0     2341682.3500000006   \n",
       "3            400629887.7081206                   -1.0              6690521.0   \n",
       "\n",
       "   scenario_revenue_output  simulation_id  scenario_cost_per_unit  \\\n",
       "0                     -1.0           -1.0                    -1.0   \n",
       "1                     -1.0           -1.0                    -1.0   \n",
       "2                     -1.0           -1.0                    -1.0   \n",
       "3                     -1.0           -1.0                    -1.0   \n",
       "\n",
       "   current_effectiveness_per_metric  input_cost_per_metric       lower_bounds  \\\n",
       "0               0.04989169185685991   0.047460100247732534  7048574.449987228   \n",
       "1              0.005070475485526193    0.02281779777355026 14660750.933105959   \n",
       "2              0.002548572885704587   0.007769705490787967  43055177.62502398   \n",
       "3                              -1.0    0.01345956570689966               -1.0   \n",
       "\n",
       "        upper_bounds  matrix_row_1_tv  matrix_row_2_digital  \\\n",
       "0  84582893.39984672              0.0  0.047460100247732534   \n",
       "1 175929011.19727147              0.0   0.02281779777355026   \n",
       "2 516662131.50028765              0.0  0.007769705490787967   \n",
       "3               -1.0             -1.0                  -1.0   \n",
       "\n",
       "       matrix_row_3_vg  \n",
       "0  0.04989169185685991  \n",
       "1 0.005070475485526193  \n",
       "2 0.002548572885704587  \n",
       "3                 -1.0  "
      ]
     },
     "execution_count": 27,
     "metadata": {},
     "output_type": "execute_result"
    }
   ],
   "source": [
    "recommendation_media_df"
   ]
  },
  {
   "cell_type": "code",
   "execution_count": 28,
   "metadata": {
    "ExecuteTime": {
     "end_time": "2022-10-10T03:31:42.302395Z",
     "start_time": "2022-10-10T03:31:38.929583Z"
    }
   },
   "outputs": [
    {
     "ename": "IndexError",
     "evalue": "index 0 is out of bounds for axis 0 with size 0",
     "output_type": "error",
     "traceback": [
      "\u001b[1;31m---------------------------------------------------------------------------\u001b[0m",
      "\u001b[1;31mIndexError\u001b[0m                                Traceback (most recent call last)",
      "Input \u001b[1;32mIn [28]\u001b[0m, in \u001b[0;36m<cell line: 1>\u001b[1;34m()\u001b[0m\n\u001b[1;32m----> 1\u001b[0m current_volumes\u001b[38;5;241m=\u001b[39m\u001b[43mrecommendation_media_df\u001b[49m\u001b[38;5;241;43m.\u001b[39;49m\u001b[43mquery\u001b[49m\u001b[43m(\u001b[49m\u001b[38;5;124;43m\"\u001b[39;49m\u001b[38;5;124;43mmedia_type ==\u001b[39;49m\u001b[38;5;124;43m'\u001b[39;49m\u001b[38;5;124;43mTV\u001b[39;49m\u001b[38;5;124;43m'\u001b[39;49m\u001b[38;5;124;43m and genre_platform == \u001b[39;49m\u001b[38;5;124;43m'\u001b[39;49m\u001b[38;5;124;43mTotal\u001b[39;49m\u001b[38;5;124;43m'\u001b[39;49m\u001b[38;5;124;43m \u001b[39;49m\u001b[38;5;124;43m\"\u001b[39;49m\u001b[43m)\u001b[49m\u001b[43m[\u001b[49m\u001b[38;5;124;43m'\u001b[39;49m\u001b[38;5;124;43mcurrent_volume\u001b[39;49m\u001b[38;5;124;43m'\u001b[39;49m\u001b[43m]\u001b[49m\u001b[38;5;241;43m.\u001b[39;49m\u001b[43mvalues\u001b[49m\u001b[43m[\u001b[49m\u001b[38;5;241;43m0\u001b[39;49m\u001b[43m]\u001b[49m\n\u001b[0;32m      2\u001b[0m reco_volumes\u001b[38;5;241m=\u001b[39mrecommendation_media_df\u001b[38;5;241m.\u001b[39mquery(\u001b[38;5;124m\"\u001b[39m\u001b[38;5;124mmedia_type ==\u001b[39m\u001b[38;5;124m'\u001b[39m\u001b[38;5;124mTV\u001b[39m\u001b[38;5;124m'\u001b[39m\u001b[38;5;124m and genre_platform == \u001b[39m\u001b[38;5;124m'\u001b[39m\u001b[38;5;124mTotal\u001b[39m\u001b[38;5;124m'\u001b[39m\u001b[38;5;124m \u001b[39m\u001b[38;5;124m\"\u001b[39m)[\u001b[38;5;124m'\u001b[39m\u001b[38;5;124mrecommendation_volume\u001b[39m\u001b[38;5;124m'\u001b[39m]\u001b[38;5;241m.\u001b[39mvalues[\u001b[38;5;241m0\u001b[39m]\n\u001b[0;32m      3\u001b[0m volume_growth\u001b[38;5;241m=\u001b[39m(reco_volumes\u001b[38;5;241m-\u001b[39mcurrent_volumes)\u001b[38;5;241m/\u001b[39mcurrent_volume\n",
      "\u001b[1;31mIndexError\u001b[0m: index 0 is out of bounds for axis 0 with size 0"
     ]
    }
   ],
   "source": [
    "current_volumes=recommendation_media_df.query(\"media_type =='TV' and genre_platform == 'Total' \")['current_volume'].values[0]\n",
    "reco_volumes=recommendation_media_df.query(\"media_type =='TV' and genre_platform == 'Total' \")['recommendation_volume'].values[0]\n",
    "volume_growth=(reco_volumes-current_volumes)/current_volume\n",
    "print(f\"{round(volume_growth*100, 2)}%\")"
   ]
  },
  {
   "cell_type": "code",
   "execution_count": 29,
   "metadata": {
    "ExecuteTime": {
     "end_time": "2022-10-10T03:31:45.298585Z",
     "start_time": "2022-10-10T03:31:44.091965Z"
    },
    "scrolled": true
   },
   "outputs": [],
   "source": [
    "# print(current_volume*growth_ambition_perc + recommendation_media_df.query(\"genre_platform == 'Total'\")['current_volume'].sum())\n",
    "# print(recommendation_media_df.query(\"genre_platform == 'Total'\")['recommendation_volume'].sum())"
   ]
  },
  {
   "cell_type": "code",
   "execution_count": 30,
   "metadata": {
    "ExecuteTime": {
     "end_time": "2022-10-10T03:31:46.667670Z",
     "start_time": "2022-10-10T03:31:45.305569Z"
    },
    "pycharm": {
     "is_executing": true,
     "name": "#%%\n"
    }
   },
   "outputs": [],
   "source": [
    "# recommendation_media_df.to_csv(f\"./test_output/temp/{country}/Aus_snacks_{brand}_3.csv\", index=False)"
   ]
  },
  {
   "cell_type": "markdown",
   "metadata": {},
   "source": [
    "# Scenario"
   ]
  },
  {
   "cell_type": "markdown",
   "metadata": {},
   "source": [
    "Media"
   ]
  },
  {
   "cell_type": "code",
   "execution_count": 20,
   "metadata": {},
   "outputs": [],
   "source": [
    "recommendation_media_df = pd.read_csv(f\"./test_output/temp/{country}/Aus_snacks_{brand}_3.csv\").replace(np.nan, -1)"
   ]
  },
  {
   "cell_type": "code",
   "execution_count": 21,
   "metadata": {},
   "outputs": [],
   "source": [
    "recommendation_media_df['scenario_spends_digital_input'] = recommendation_media_df['scenario_spends']\n",
    "recommendation_media_df['scenario_metric_value_input'] = recommendation_media_df['scenario_metric_value']"
   ]
  },
  {
   "cell_type": "code",
   "execution_count": 22,
   "metadata": {},
   "outputs": [],
   "source": [
    "scenario_media_df = scenario_media(recommendation_media_df)"
   ]
  },
  {
   "cell_type": "code",
   "execution_count": 17,
   "metadata": {},
   "outputs": [],
   "source": [
    "scenario_media_df.replace(-1, np.nan).to_csv(f\"./test_output/temp/{country}/scenario/Aus_snacks_{brand}_S1.csv\", index=False)"
   ]
  },
  {
   "cell_type": "code",
   "execution_count": 24,
   "metadata": {},
   "outputs": [
    {
     "data": {
      "text/plain": [
       "media_type  genre_platform\n",
       "Digital     Facebook          4.893092\n",
       "            Total             4.122062\n",
       "Name: scenario_roi, dtype: float64"
      ]
     },
     "execution_count": 24,
     "metadata": {},
     "output_type": "execute_result"
    }
   ],
   "source": [
    "scenario_media_df.set_index(['media_type', 'genre_platform'])['scenario_roi'][-2:]"
   ]
  },
  {
   "cell_type": "code",
   "execution_count": null,
   "metadata": {},
   "outputs": [],
   "source": []
  }
 ],
 "metadata": {
  "kernelspec": {
   "display_name": "Python 3 (ipykernel)",
   "language": "python",
   "name": "python3"
  },
  "language_info": {
   "codemirror_mode": {
    "name": "ipython",
    "version": 3
   },
   "file_extension": ".py",
   "mimetype": "text/x-python",
   "name": "python",
   "nbconvert_exporter": "python",
   "pygments_lexer": "ipython3",
   "version": "3.8.8"
  }
 },
 "nbformat": 4,
 "nbformat_minor": 1
}
